{
 "cells": [
  {
   "cell_type": "markdown",
   "metadata": {},
   "source": [
    "### 人脸常见情绪：\n",
    "https://zhuanlan.zhihu.com/p/574732604   "
   ]
  },
  {
   "cell_type": "code",
   "execution_count": null,
   "metadata": {},
   "outputs": [],
   "source": [
    "## import the thrid party library!"
   ]
  },
  {
   "cell_type": "code",
   "execution_count": 4,
   "metadata": {},
   "outputs": [],
   "source": [
    "import os\n",
    "import glob\n",
    "import cv2 \n",
    "import math\n",
    "import shutil\n",
    "import config \n",
    "import numpy as np\n",
    "from numpy import linalg as LA\n",
    "import pandas as pd\n",
    "import matplotlib.pyplot as plt\n",
    "from keras.utils import to_categorical\n",
    "import dlib\n",
    "import tensorflow as tf\n",
    "from scipy.linalg import svd\n",
    "from sklearn.model_selection import train_test_split"
   ]
  },
  {
   "cell_type": "code",
   "execution_count": 5,
   "metadata": {},
   "outputs": [],
   "source": [
    "## explain\n",
    "# %!m(MISSING)atplotlib inline is a magic command in Jupyter Notebook and JupyterLab that allows you to display matplotlib plots directly in the output cell of the notebook.\n",
    "\n",
    "# When this command is executed, it sets the backend of matplotlib to the inline backend, which renders the plots as static images embedded in the notebook. This is useful for creating data visualizations in the same notebook as your data analysis code.\n",
    "\n",
    "# Note that this command must be executed before any plotting commands in your notebook. If you want to change the backend or customize the behavior of matplotlib, you can use other magic commands or call the relevant functions directly\n",
    "\n",
    "%matplotlib inline"
   ]
  },
  {
   "cell_type": "code",
   "execution_count": 6,
   "metadata": {},
   "outputs": [],
   "source": [
    "path = glob.glob(\"E:/face_dectection/happy1/*.jpg\")\n",
    "path_r=\"E:/face_dectection/happy1/\"\n",
    "face_write_path = 'E:\\\\face_dectection\\\\Detected\\\\'"
   ]
  },
  {
   "cell_type": "code",
   "execution_count": 7,
   "metadata": {},
   "outputs": [
    {
     "name": "stdout",
     "output_type": "stream",
     "text": [
      "recgonize_happy1.jpg\n",
      "recgonize_happy2.jpg\n",
      "recgonize_happy3.jpg\n",
      "recgonize_happy4.jpg\n",
      "recgonize_happy5.jpg\n",
      "recgonize_happy6.jpg\n"
     ]
    }
   ],
   "source": [
    "filenames=[]\n",
    "for f in os.listdir(path_r):\n",
    "    if\"jpg\" in f:\n",
    "        print(f)\n",
    "        filenames.append(f)"
   ]
  },
  {
   "cell_type": "code",
   "execution_count": 8,
   "metadata": {},
   "outputs": [
    {
     "data": {
      "text/plain": [
       "6"
      ]
     },
     "execution_count": 8,
     "metadata": {},
     "output_type": "execute_result"
    }
   ],
   "source": [
    "#picture numbers \n",
    "len(filenames)"
   ]
  },
  {
   "cell_type": "markdown",
   "metadata": {},
   "source": [
    "**dlib简介**\n",
    "\n",
    "Dlib是一个用C ++编写的工具库，其中包含一些机器学习方面的算法和软件，用来解决复杂现实世界问题，\n",
    "目前该软件库在工业上和学术界都得到了广泛的使用（该库为开源库）<br>\n",
    "dlib和opencv都有可以进行人脸检测的模块。\n",
    "OpenCV的Haar Cascade运行速度快，但是容易出现将非人脸部分检测为人脸的情况，\n",
    "DNN人脸检测在各方面的表现都比较优秀，但是似乎不能使用NVIDIA GPU。\n",
    "dlib中实现了SURF、HOG和FHOG的特征提取算法。更够准确检测大部分人脸，对存在遮挡的人脸也能进行正确检测.\n",
    "官网文档地址：http://dlib.net/"
   ]
  },
  {
   "cell_type": "markdown",
   "metadata": {},
   "source": [
    "参考\n",
    "https://blog.csdn.net/weixin_45909259/article/details/119746145\n",
    "https://blog.csdn.net/qq_43279579/article/details/117637044"
   ]
  },
  {
   "cell_type": "code",
   "execution_count": null,
   "metadata": {},
   "outputs": [],
   "source": [
    "help(dlib.get_frontal_face_detector)"
   ]
  },
  {
   "cell_type": "markdown",
   "metadata": {},
   "source": [
    "### 进行人脸区域的检测"
   ]
  },
  {
   "cell_type": "code",
   "execution_count": 9,
   "metadata": {},
   "outputs": [
    {
     "name": "stdout",
     "output_type": "stream",
     "text": [
      "E:\\face_dectection\\Detected\\recgonize_happy1.jpg\n",
      "E:\\face_dectection\\Detected\\recgonize_happy2.jpg\n",
      "E:\\face_dectection\\Detected\\recgonize_happy3.jpg\n",
      "E:\\face_dectection\\Detected\\recgonize_happy4.jpg\n",
      "E:\\face_dectection\\Detected\\recgonize_happy5.jpg\n",
      "E:\\face_dectection\\Detected\\recgonize_happy6.jpg\n",
      "all dected image is done!, plese check in your save path\n"
     ]
    }
   ],
   "source": [
    "#setting \n",
    "temp_image=[]\n",
    "width =48\n",
    "height =48\n",
    "cnt=0\n",
    "\n",
    "#use dlib dectect the image with variuos emotion\n",
    "hogFaceDetector = dlib.get_frontal_face_detector()\n",
    "for img in path:\n",
    "    im = cv2.imread(img)\n",
    "    #这个函数需要格外了解一下\n",
    "    faceRects = hogFaceDetector(im, 0)\n",
    "    for faceRect in faceRects:\n",
    "        x = faceRect.left()\n",
    "        y = faceRect.top()\n",
    "        x2 = faceRect.right()\n",
    "        y2 = faceRect.bottom()\n",
    "    #get the region that decteced!\n",
    "    try:\n",
    "        c_img = im[y:y2,x:x2]\n",
    "        gray = cv2.cvtColor(c_img,cv2.COLOR_BGR2GRAY)\n",
    "        gray = cv2.resize(gray,(height,width))\n",
    "        temp_image.append(gray)\n",
    "    except:\n",
    "        continue\n",
    "    filename=filenames[cnt]\n",
    "    #write the region that decteced to the destion path\n",
    "    cv2.imwrite(os.path.join(face_write_path ,filename),gray)\n",
    "    cnt=cnt+1\n",
    "    print(os.path.join(face_write_path ,filename))\n",
    "print(\"all dected image is done!, plese check in your save path\")"
   ]
  },
  {
   "cell_type": "code",
   "execution_count": 10,
   "metadata": {},
   "outputs": [
    {
     "data": {
      "text/plain": [
       "<matplotlib.image.AxesImage at 0x2a8902572b0>"
      ]
     },
     "execution_count": 10,
     "metadata": {},
     "output_type": "execute_result"
    },
    {
     "data": {
      "image/png": "[encoded data removed]",
      "text/plain": [
       "<Figure size 432x288 with 1 Axes>"
      ]
     },
     "metadata": {
      "needs_background": "light"
     },
     "output_type": "display_data"
    }
   ],
   "source": [
    "#浅浅的展示一下效果\n",
    "plt.imshow(temp_image[3],cmap = \"gray\")\n",
    "#len(X)"
   ]
  },
  {
   "cell_type": "markdown",
   "metadata": {},
   "source": [
    "### 下面尝试进行人脸识别"
   ]
  },
  {
   "cell_type": "code",
   "execution_count": 11,
   "metadata": {},
   "outputs": [],
   "source": [
    "shape_predictor_path = 'D:/face_dectection/shape_predictor_68_face_landmarks.dat' # 人脸检测器\n",
    "recognition_model_path = 'D:/face_dectection/dlib_face_recognition_resnet_model_v1.dat'\n",
    "\n",
    "detector = dlib.get_frontal_face_detector()\n",
    "predictor = dlib.shape_predictor(shape_predictor_path)                              # 人脸68点提取器\n",
    "recognition_model = dlib.face_recognition_model_v1(recognition_model_path)          # 基于resnet的128维特征向量提取器"
   ]
  },
  {
   "cell_type": "code",
   "execution_count": null,
   "metadata": {},
   "outputs": [],
   "source": [
    "import cv2 as cv\n",
    "import os\n",
    "import numpy as np\n",
    "import csv\n",
    "import config\n",
    "from tqdm import tqdm\n",
    "import shutil\n",
    "\n",
    "def write2csv(data, mode):                      # 更新库内所有数据\n",
    "    with open(config.csv_base_path, mode, newline='') as wf:\n",
    "        csv_writer = csv.writer(wf)\n",
    "        csv_writer.writerow(data)\n",
    "\n",
    "def get_features_from_csv():\n",
    "    features_in_csv = []\n",
    "    with open(config.csv_base_path, 'r') as rf:\n",
    "        csv_reader = csv.reader(rf)\n",
    "        for row in csv_reader:\n",
    "            for i in range(0, 128):\n",
    "                row[i] = float(row[i])\n",
    "\n",
    "            features_in_csv.append(row)\n",
    "        return features_in_csv\n",
    "\n",
    "def save_select_in_csv(data):                   # 库内数据选择更新\n",
    "    features_in_csv = get_features_from_csv()\n",
    "\n",
    "    with open(config.csv_base_path, 'w', newline='') as wf:\n",
    "        csv_writer = csv.writer(wf)\n",
    "        for index, i in enumerate(config.face_needTo_update):\n",
    "            features_in_csv[i] = data[index]\n",
    "\n",
    "        csv_writer.writerow(features_in_csv[0])\n",
    "\n",
    "    with open(config.csv_base_path, 'a+', newline='') as af:\n",
    "        csv_writer = csv.writer(af)\n",
    "        for j in range(1, len(features_in_csv)):\n",
    "            csv_writer.writerow(features_in_csv[j])\n",
    "\n",
    "    print(\"csv文件更新完成!!\")\n",
    "\n",
    "def get_128_features(person):                    # person代表第几个人脸数据文件夹\n",
    "    num = 0\n",
    "    features = []\n",
    "    imgs_folder = config.imgs_folder_path[person]\n",
    "    points_faceImage_path = config.points_faceData_path + imgs_folder\n",
    "\n",
    "    imgs_path = config.faceData_path + imgs_folder + '/'\n",
    "    list_imgs = os.listdir(imgs_path)\n",
    "    imgs_num = len(list_imgs)\n",
    "\n",
    "    if os.path.exists(config.points_faceData_path + imgs_folder):\n",
    "        shutil.rmtree(points_faceImage_path)\n",
    "    os.makedirs(points_faceImage_path)\n",
    "    print(\"人脸点图文件夹建立成功!!\")\n",
    "\n",
    "    with tqdm(total=imgs_num) as pbar:\n",
    "        pbar.set_description(str(imgs_folder))\n",
    "        for j in range(imgs_num):\n",
    "            image = cv.imread(os.path.join(imgs_path, list_imgs[j]))\n",
    "\n",
    "            faces = config.detector(image, 1)           # 经查阅资料，这里的1代表采样次数\n",
    "            if len(faces) != 0:\n",
    "                for z, face in enumerate(faces):\n",
    "                    shape = config.predictor(image, face)       # 获取68点的坐标\n",
    "\n",
    "                    w, h = (face.right() - face.left()), (face.bottom() - face.top())\n",
    "                    left, right, top, bottom = face.left() - w // 4, face.right() + w // 4, face.top() - h // 2, face.bottom() + h // 4\n",
    "                    im = image\n",
    "\n",
    "                    cv.rectangle(im, (left, top), (right, bottom), (0, 0, 255))\n",
    "                    cv.imwrite(points_faceImage_path + '/{}.png'.format(j), im)\n",
    "\n",
    "                    if config.get_points_faceData_flag == True:\n",
    "                        for p in range(0, 68):\n",
    "                            cv.circle(image, (shape.part(p).x, shape.part(p).y), 2, (0,0,255))\n",
    "                        cv.imwrite(points_faceImage_path + '/{}.png'.format(j), image)\n",
    "\n",
    "                    the_features = list(config.recognition_model.compute_face_descriptor(image, shape)) # 获取128维特征向量\n",
    "                    features.append(the_features)\n",
    "                    #print(\"第{}张图片，第{}张脸,特征向量为:{}\".format(j+1, z+1, the_features))\n",
    "                    num += 1\n",
    "            pbar.update(1)\n",
    "\n",
    "    np_f = np.array(features)\n",
    "    #res = np.mean(np_f, axis=0)\n",
    "    res = np.median(np_f, axis=0)\n",
    "\n",
    "    return res\n",
    "\n",
    "def main():\n",
    "    #config is system config feature\n",
    "    if config.import_all_features_flag == True:\n",
    "        res = get_128_features(person=0)\n",
    "        write2csv(res, 'w')\n",
    "        for i in range(1, config.num_of_person_in_lib):\n",
    "            res = get_128_features(person=i)\n",
    "            write2csv(res, 'a+')\n",
    "            #print(\"人脸特征向量为：{}\".format(res))\n",
    "    else:\n",
    "        select_res = []\n",
    "        for i in config.face_needTo_update:\n",
    "            res = get_128_features(person=i)\n",
    "            select_res.append(res)\n",
    "        save_select_in_csv(select_res)"
   ]
  },
  {
   "cell_type": "code",
   "execution_count": null,
   "metadata": {},
   "outputs": [],
   "source": [
    "import numpy as np\n",
    "import csv\n",
    "import config\n",
    "import cv2 as cv\n",
    "from collect_face_data import face_detect\n",
    "\n",
    "class face_recognition(face_detect):\n",
    "    def __init__(self, cam):\n",
    "        super(face_recognition, self).__init__()\n",
    "        self.camera = cam\n",
    "        self.available_max_face_num = 50        # 最大的人脸检测数量(不一定能达到)\n",
    "        self.collect_face_data = False          # 人脸识别过程不采集数据，固定为False\n",
    "\n",
    "        self.all_features = []                  # 存储库中所有特征向量\n",
    "        self.check_features_from_cam = []       # 存储五次检测过程，每次得到的特征向量\n",
    "\n",
    "        self.person_name = []                   # 存储人名\n",
    "        self.all_name = []                      # 存储预测到的所有人名\n",
    "\n",
    "        self.all_face_location = None           # 存储一帧中所有人脸的坐标\n",
    "        self.middle_point = None                # 存储一张人脸的中心点坐标\n",
    "        self.last_frame_middle_point = []       # 存储上一帧所有人脸的中心点坐标\n",
    "\n",
    "        self.all_e_distance = []                # 存储当前人脸与库中所有人脸特征的欧氏距离\n",
    "        self.last_now_middlePoint_eDistance = [99999 for x in range(self.available_max_face_num)]   # 存储这帧与上一帧每张人脸中心点的欧氏距离\n",
    "\n",
    "        for i in range(self.available_max_face_num):\n",
    "            self.all_e_distance.append([])\n",
    "            self.person_name.append([])\n",
    "            self.check_features_from_cam.append([])\n",
    "            self.last_frame_middle_point.append([])\n",
    "\n",
    "    def get_feature_in_csv(self):                                       # 获得库内所有特征向量\n",
    "        datas = csv.reader(open(config.csv_base_path, 'r'))\n",
    "        for row in datas:\n",
    "            for i in range(128):\n",
    "                row[i] = float(row[i])\n",
    "\n",
    "            self.all_features.append(row)\n",
    "\n",
    "    def get_faceName(self):                                             # 获得库内所有人名\n",
    "        with open(config.faceName_path, 'r', encoding='utf-8') as f:\n",
    "            datas = f.readlines()\n",
    "            for line in datas:\n",
    "                self.all_name.append(line[:-1])\n",
    "            print(\"库中存在的人名有：{}\".format(self.all_name))\n",
    "\n",
    "    def calculate_EuclideanDistance(self, feature1, feature2):          # 计算欧氏距离\n",
    "        np_feature1 = np.array(feature1)\n",
    "        np_feature2 = np.array(feature2)\n",
    "\n",
    "        EuclideanDistance = np.sqrt(np.sum(np.square(np_feature1 - np_feature2)))\n",
    "\n",
    "        return EuclideanDistance\n",
    "\n",
    "    def meadian_filter(self, the_list, num_of_data):\n",
    "        np_list = np.array(the_list)\n",
    "        feature_max = np.max(np_list, axis=0)\n",
    "        feature_min = np.min(np_list, axis=0)\n",
    "        res = (np.sum(np_list, axis=0) - feature_max - feature_min) / (num_of_data-2)\n",
    "\n",
    "        res.tolist()\n",
    "        return res\n",
    "\n",
    "    def middle_filter(self, the_list):\n",
    "        np_list = np.array(the_list)\n",
    "        return np.median(np_list, axis=0)\n",
    "\n",
    "    def init_process(self):\n",
    "        self.get_feature_in_csv()\n",
    "        self.get_faceName()\n",
    "\n",
    "    def track_link(self):           # 这个函数是为了让后续帧的序号与初始帧的序号对应\n",
    "        for index in range(self.face_num):\n",
    "            self.last_now_middlePoint_eDistance[index] = self.calculate_EuclideanDistance(self.middle_point,\n",
    "                                                                              self.last_frame_middle_point[index])\n",
    "        this_face_index = self.last_now_middlePoint_eDistance.index(min(self.last_now_middlePoint_eDistance))\n",
    "        self.last_frame_middle_point[this_face_index] = self.middle_point\n",
    "\n",
    "        return this_face_index\n",
    "\n",
    "    def recognition_from_cam(self):\n",
    "        self.init_process()\n",
    "        while self.camera.isOpened() and not self.quit_flag:\n",
    "            val, self.image = self.camera.read()\n",
    "            if val == False: continue\n",
    "\n",
    "            #self.image = cv.imread('./data/test/test_xi.jpg')\n",
    "            #self.image = cv.imread('./data/test/multi.png')\n",
    "\n",
    "            key = cv.waitKey(1)\n",
    "\n",
    "            res = self.face_detecting()         # 0.038s\n",
    "\n",
    "            if res is not None:\n",
    "                face, self.all_face_location = res\n",
    "\n",
    "                for i in range(self.face_num):\n",
    "                    [left, right, top, bottom] = self.all_face_location[i]\n",
    "                    self.middle_point = [(left + right) /2, (top + bottom) / 2]\n",
    "\n",
    "                    self.face_img = self.image[top:bottom, left:right]\n",
    "\n",
    "                    cv.rectangle(self.image, (left, top), (right, bottom), (0, 0, 255))\n",
    "\n",
    "                    shape = config.predictor(self.image, face[i])       # 0.002s\n",
    "\n",
    "                    if self.face_num_change_flag == True or self.check_times <= 5:\n",
    "                        if self.face_num_change_flag == True:       # 人脸数量有变化，重新进行五次检测\n",
    "                            self.check_times = 0\n",
    "                            self.last_now_middlePoint_eDistance = [99999 for _ in range(self.available_max_face_num)]\n",
    "                            for z in range(self.available_max_face_num):    self.check_features_from_cam[z] = []\n",
    "\n",
    "                        if self.check_times < 5:\n",
    "                            the_features_from_cam = list(config.recognition_model.compute_face_descriptor(self.image, shape))   # 耗时主要在这步 0.32s\n",
    "                            if self.check_times == 0:           # 初始帧\n",
    "                                self.check_features_from_cam[i].append(the_features_from_cam)\n",
    "                                self.last_frame_middle_point[i] = self.middle_point\n",
    "                            else:\n",
    "                                this_face_index = self.track_link()         # 后续帧需要与初始帧的人脸序号对应\n",
    "                                self.check_features_from_cam[this_face_index].append(the_features_from_cam)\n",
    "\n",
    "                        elif self.check_times == 5:\n",
    "                            features_after_filter = self.middle_filter(self.check_features_from_cam[i])\n",
    "                            self.check_features_from_cam[i] = []\n",
    "                            for person in range(config.num_of_person_in_lib):\n",
    "                                e_distance = self.calculate_EuclideanDistance(self.all_features[person],\n",
    "                                                                              features_after_filter)  # 几乎不耗时\n",
    "\n",
    "                                self.all_e_distance[i].append(e_distance)\n",
    "\n",
    "                            if min(self.all_e_distance[i]) < config.recognition_threshold:\n",
    "                                self.person_name[i] = self.all_name[self.all_e_distance[i].index(min(self.all_e_distance[i]))]\n",
    "                                cv.putText(self.image, self.person_name[i],\n",
    "                                           (int((left + right) / 2) - 50, bottom + 20),\n",
    "                                           cv.FONT_HERSHEY_COMPLEX, 1, (255, 255, 255))\n",
    "                            else:\n",
    "                                self.person_name[i] = \"Unknown\"\n",
    "\n",
    "                            print(\"预测结果为:{}, 与库中各人脸的欧氏距离为:{}\".format(self.person_name[i], self.all_e_distance[i]))\n",
    "\n",
    "                    else:\n",
    "                        this_face_index = self.track_link()\n",
    "                        #print(this_face_index, self.person_name)\n",
    "                        cv.putText(self.image, self.person_name[this_face_index], (int((left + right) / 2) - 50, bottom + 20),\n",
    "                                   cv.FONT_HERSHEY_COMPLEX, 1, (255, 255, 255))\n",
    "                self.check_times += 1\n",
    "\n",
    "                for j in range(self.available_max_face_num):\n",
    "                    self.all_e_distance[j] = []\n",
    "\n",
    "                self.key_scan(key)\n",
    "\n",
    "            self.get_fps()\n",
    "            cv.namedWindow('camera', 0)\n",
    "            cv.imshow('camera', self.image)\n",
    "\n",
    "        self.camera.release()\n",
    "        cv.destroyAllWindows()\n",
    "\n",
    "def main():\n",
    "    cam = cv.VideoCapture(0)\n",
    "    process = face_recognition(cam)\n",
    "    process.recognition_from_cam()\n",
    "\n",
    "if __name__ == '__main__':\n",
    "    main()"
   ]
  }
 ],
 "metadata": {
  "kernelspec": {
   "display_name": "Python 3 (ipykernel)",
   "language": "python",
   "name": "python3"
  },
  "language_info": {
   "codemirror_mode": {
    "name": "ipython",
    "version": 3
   },
   "file_extension": ".py",
   "mimetype": "text/x-python",
   "name": "python",
   "nbconvert_exporter": "python",
   "pygments_lexer": "ipython3",
   "version": "3.9.6"
  },
  "varInspector": {
   "cols": {
    "lenName": 16,
    "lenType": 16,
    "lenVar": 40
   },
   "kernels_config": {
    "python": {
     "delete_cmd_postfix": "",
     "delete_cmd_prefix": "del ",
     "library": "var_list.py",
     "varRefreshCmd": "print(var_dic_list())"
    },
    "r": {
     "delete_cmd_postfix": ") ",
     "delete_cmd_prefix": "rm(",
     "library": "var_list.r",
     "varRefreshCmd": "cat(var_dic_list()) "
    }
   },
   "types_to_exclude": [
    "module",
    "function",
    "builtin_function_or_method",
    "instance",
    "_Feature"
   ],
   "window_display": false
  }
 },
 "nbformat": 4,
 "nbformat_minor": 2
}
