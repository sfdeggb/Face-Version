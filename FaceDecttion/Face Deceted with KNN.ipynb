{
 "cells": [
  {
   "cell_type": "markdown",
   "metadata": {},
   "source": [
    "### KNN K邻近点算法用户图像识别的原理\n",
    "图像识别，本质上也是数据分类，也即把每一张图像归类，因此KNN算法可以应用于图像识别。\n",
    "KNN是基于距离的判别算法-样本距离。\n",
    "通常每一个样本都是一维向量的形式（二维、三维、多维数据都可以转换为一维向量）。\n",
    "衡量一维向量之间的距离，通常有欧式距离，余弦距离、汉明距离等，\n",
    "**其中欧式距离又是最常用的距离度量方法。**\n",
    "K值。K值决定寻找训练样本中最接近待分类样本的样本个数，比如K值取5，那么对于每一个待分类样本，都从训练样本中寻找5个与其距离最接近的样本，然后统计这5个样本中各个类别的数量，数量最多的类别则认为是待分类样本的类别。K值没有固定的取值，通常在一开始取5~10，然后多尝试几次，根据识别的正确率来调整K值。\n",
    "参考：https://zhuanlan.zhihu.com/p/355740954"
   ]
  },
  {
   "cell_type": "code",
   "execution_count": 64,
   "metadata": {},
   "outputs": [],
   "source": [
    "import os\n",
    "import glob\n",
    "import cv2 \n",
    "import math\n",
    "import random \n",
    "import pandas as pd\n",
    "import numpy as np\n",
    "import matplotlib.pyplot as plt\n",
    "from sklearn.model_selection import train_test_split\n",
    "from keras.utils import to_categorical\n",
    "from scipy.linalg import svd\n",
    "from numpy import linalg as LA\n",
    "\n",
    "%matplotlib inline"
   ]
  },
  {
   "cell_type": "markdown",
   "metadata": {},
   "source": [
    "### 数据预处理"
   ]
  },
  {
   "cell_type": "code",
   "execution_count": 59,
   "metadata": {},
   "outputs": [],
   "source": [
    "path = glob.glob(\"E:/face_dectection/*/*.jpg\")"
   ]
  },
  {
   "cell_type": "code",
   "execution_count": 60,
   "metadata": {},
   "outputs": [
    {
     "data": {
      "text/plain": [
       "2061"
      ]
     },
     "execution_count": 60,
     "metadata": {},
     "output_type": "execute_result"
    }
   ],
   "source": [
    "len(path)"
   ]
  },
  {
   "cell_type": "code",
   "execution_count": 65,
   "metadata": {},
   "outputs": [],
   "source": [
    "random.shuffle(path)"
   ]
  },
  {
   "cell_type": "code",
   "execution_count": 31,
   "metadata": {},
   "outputs": [
    {
     "name": "stdout",
     "output_type": "stream",
     "text": [
      "1891\n"
     ]
    }
   ],
   "source": [
    "X=[]\n",
    "count=0\n",
    "for img in path:\n",
    "    if \"jpg\" in img:\n",
    "        try:\n",
    "            n = cv2.imread(img)#发送读取错误时跳过\n",
    "            gray = cv2.cvtColor(n,cv2.COLOR_BGR2GRAY)\n",
    "        except:\n",
    "            X.append(np.zeros((50,50)))#填充错误值\n",
    "            continue\n",
    "        gray = cv2.resize(gray,(50,50))\n",
    "        X.append(gray)\n",
    "        count=count+1\n",
    "print(count)"
   ]
  },
  {
   "cell_type": "code",
   "execution_count": 32,
   "metadata": {},
   "outputs": [
    {
     "name": "stdout",
     "output_type": "stream",
     "text": [
      "2061\n",
      "<class 'numpy.ndarray'>\n",
      "(50, 50)\n",
      "[[199 199 198 ... 197 197 197]\n",
      " [199 199 201 ... 197 197 197]\n",
      " [199 198 201 ... 196 197 197]\n",
      " ...\n",
      " [197 196  30 ... 183 182 181]\n",
      " [196 196  35 ... 182 181 181]\n",
      " [196 196  38 ... 181 180 180]]\n"
     ]
    }
   ],
   "source": [
    "print(len(X))#5126张图片\n",
    "print(type(X[0]))\n",
    "print(X[0].shape)\n",
    "print(X[0])"
   ]
  },
  {
   "cell_type": "code",
   "execution_count": 80,
   "metadata": {},
   "outputs": [],
   "source": [
    "sizeImg = X[0].shape\n",
    "#创建X个与图片大小一样的0位数组\n",
    "A = np.zeros((sizeImg[0]*sizeImg[1],len(X)))\n",
    "for i in range(0, len(X)):\n",
    "    tmp = (np.array(X[i]).reshape(-1))#转化为一维数组\n",
    "    A[:,i] = np.array(tmp)"
   ]
  },
  {
   "cell_type": "code",
   "execution_count": 81,
   "metadata": {},
   "outputs": [
    {
     "data": {
      "text/plain": [
       "(2500, 2061)"
      ]
     },
     "execution_count": 81,
     "metadata": {},
     "output_type": "execute_result"
    }
   ],
   "source": [
    "A.shape"
   ]
  },
  {
   "cell_type": "code",
   "execution_count": 66,
   "metadata": {},
   "outputs": [
    {
     "name": "stdout",
     "output_type": "stream",
     "text": [
      "2061\n"
     ]
    }
   ],
   "source": [
    "print(len(path))"
   ]
  },
  {
   "cell_type": "code",
   "execution_count": 71,
   "metadata": {
    "collapsed": true
   },
   "outputs": [
    {
     "name": "stdout",
     "output_type": "stream",
     "text": [
      "['E:/face_dectection\\\\happy\\\\recgonize_happy382.jpg', 'E:/face_dectection\\\\happy\\\\recgonize_happy411.jpg', 'E:/face_dectection\\\\happy\\\\recgonize_happy320.jpg', 'E:/face_dectection\\\\surprise\\\\recgonize_surprise2.jpg', 'E:/face_dectection\\\\anger\\\\recgonize_anger39.jpg', 'E:/face_dectection\\\\surprise\\\\recgonize_surprise152.jpg', 'E:/face_dectection\\\\sad\\\\recgonize_sad6.jpg', 'E:/face_dectection\\\\anger\\\\recgonize_anger257.jpg', 'E:/face_dectection\\\\anger\\\\recgonize_anger394.jpg', 'E:/face_dectection\\\\sad\\\\recgonize_sad278.jpg', 'E:/face_dectection\\\\happy\\\\recgonize_happy65.jpg', 'E:/face_dectection\\\\anger\\\\recgonize_anger347.jpg', 'E:/face_dectection\\\\anger\\\\recgonize_anger349.jpg', 'E:/face_dectection\\\\surprise1\\\\recgonize_surprise6.jpg', 'E:/face_dectection\\\\sad\\\\recgonize_sad23.jpg', 'E:/face_dectection\\\\happy\\\\recgonize_happy368.jpg', 'E:/face_dectection\\\\anger\\\\recgonize_anger80.jpg', 'E:/face_dectection\\\\anger\\\\recgonize_anger274.jpg', 'E:/face_dectection\\\\anger\\\\recgonize_anger155.jpg']\n"
     ]
    }
   ],
   "source": [
    "path2=path[1:20]\n",
    "print(path2)"
   ]
  },
  {
   "cell_type": "code",
   "execution_count": 72,
   "metadata": {},
   "outputs": [],
   "source": [
    "#建立标准\n",
    "Y_map_num = np.zeros((len(X)))\n",
    "i = 0\n",
    "for img in path:\n",
    "    if \"jpg\" in img:\n",
    "        if \"happy\" in img:\n",
    "            Y_map_num[i]=1\n",
    "        elif \"sad\" in img:\n",
    "            Y_map_num[i]=2\n",
    "        elif \"anger\" in img:\n",
    "            Y_map_num[i]=3\n",
    "        elif \"surprise\" in img:\n",
    "            Y_map_num[i]=4\n",
    "        elif \"fear\" in img:\n",
    "            Y_map_num[i]=5\n",
    "        i = i+1"
   ]
  },
  {
   "cell_type": "code",
   "execution_count": 69,
   "metadata": {},
   "outputs": [],
   "source": [
    "#建立标准\n",
    "Y_map_label = [0 for x in range(len(X))]\n",
    "i = 0\n",
    "for img in path:\n",
    "    if \"jpg\" in img:\n",
    "        if \"happy\" in img:\n",
    "            Y_map_label[i]=(\"happy\")\n",
    "        elif \"sad\" in img:\n",
    "            Y_map_label[i]=(\"sad\")\n",
    "        elif \"anger\" in img:\n",
    "            Y_map_label[i]=(\"anger\")\n",
    "        elif \"surprise\" in img:\n",
    "            Y_map_label[i]=(\"surprise\")\n",
    "        elif \"fear\" in img:\n",
    "            Y_map_label[i]=(\"fear\")\n",
    "        i = i+1"
   ]
  },
  {
   "cell_type": "code",
   "execution_count": 73,
   "metadata": {},
   "outputs": [
    {
     "name": "stdout",
     "output_type": "stream",
     "text": [
      "['happy', 'happy', 'happy', 'surprise', 'anger', 'surprise', 'sad', 'anger', 'anger', 'sad', 'happy', 'anger', 'anger', 'surprise', 'sad', 'happy', 'anger', 'anger', 'anger']\n",
      "[1. 1. 1. 4. 3. 4. 2. 3. 3. 2. 1. 3. 3. 4. 2. 1. 3. 3. 3.]\n"
     ]
    }
   ],
   "source": [
    "print(Y_map_label[1:20])\n",
    "print(Y_map_num[1:20])"
   ]
  },
  {
   "cell_type": "code",
   "execution_count": 79,
   "metadata": {},
   "outputs": [
    {
     "name": "stdout",
     "output_type": "stream",
     "text": [
      "2061\n"
     ]
    }
   ],
   "source": [
    "print(len(Y_map_num))"
   ]
  },
  {
   "cell_type": "markdown",
   "metadata": {},
   "source": [
    "#### 方式一将标签和数字做映射"
   ]
  },
  {
   "cell_type": "code",
   "execution_count": 82,
   "metadata": {},
   "outputs": [
    {
     "data": {
      "text/plain": [
       "((1648, 2500), (413, 2500), (1648,), (413,))"
      ]
     },
     "execution_count": 82,
     "metadata": {},
     "output_type": "execute_result"
    }
   ],
   "source": [
    "#划分训练集和测试集， A--image, Y--leibei, train_X, train_Y;--- model,  testX---model---predY ---test_Y\n",
    "A=A.T\n",
    "train_X,test_X,train_Y,test_Y = train_test_split(A, Y_map_num, test_size=0.2, random_state=13)\n",
    "train_X.shape,test_X.shape,train_Y.shape,test_Y.shape"
   ]
  },
  {
   "cell_type": "code",
   "execution_count": 77,
   "metadata": {
    "collapsed": true
   },
   "outputs": [
    {
     "name": "stdout",
     "output_type": "stream",
     "text": [
      "Help on class StandardScaler in module sklearn.preprocessing._data:\n",
      "\n",
      "class StandardScaler(sklearn.base._OneToOneFeatureMixin, sklearn.base.TransformerMixin, sklearn.base.BaseEstimator)\n",
      " |  StandardScaler(*, copy=True, with_mean=True, with_std=True)\n",
      " |  \n",
      " |  Standardize features by removing the mean and scaling to unit variance.\n",
      " |  \n",
      " |  The standard score of a sample `x` is calculated as:\n",
      " |  \n",
      " |      z = (x - u) / s\n",
      " |  \n",
      " |  where `u` is the mean of the training samples or zero if `with_mean=False`,\n",
      " |  and `s` is the standard deviation of the training samples or one if\n",
      " |  `with_std=False`.\n",
      " |  \n",
      " |  Centering and scaling happen independently on each feature by computing\n",
      " |  the relevant statistics on the samples in the training set. Mean and\n",
      " |  standard deviation are then stored to be used on later data using\n",
      " |  :meth:`transform`.\n",
      " |  \n",
      " |  Standardization of a dataset is a common requirement for many\n",
      " |  machine learning estimators: they might behave badly if the\n",
      " |  individual features do not more or less look like standard normally\n",
      " |  distributed data (e.g. Gaussian with 0 mean and unit variance).\n",
      " |  \n",
      " |  For instance many elements used in the objective function of\n",
      " |  a learning algorithm (such as the RBF kernel of Support Vector\n",
      " |  Machines or the L1 and L2 regularizers of linear models) assume that\n",
      " |  all features are centered around 0 and have variance in the same\n",
      " |  order. If a feature has a variance that is orders of magnitude larger\n",
      " |  that others, it might dominate the objective function and make the\n",
      " |  estimator unable to learn from other features correctly as expected.\n",
      " |  \n",
      " |  This scaler can also be applied to sparse CSR or CSC matrices by passing\n",
      " |  `with_mean=False` to avoid breaking the sparsity structure of the data.\n",
      " |  \n",
      " |  Read more in the :ref:`User Guide <preprocessing_scaler>`.\n",
      " |  \n",
      " |  Parameters\n",
      " |  ----------\n",
      " |  copy : bool, default=True\n",
      " |      If False, try to avoid a copy and do inplace scaling instead.\n",
      " |      This is not guaranteed to always work inplace; e.g. if the data is\n",
      " |      not a NumPy array or scipy.sparse CSR matrix, a copy may still be\n",
      " |      returned.\n",
      " |  \n",
      " |  with_mean : bool, default=True\n",
      " |      If True, center the data before scaling.\n",
      " |      This does not work (and will raise an exception) when attempted on\n",
      " |      sparse matrices, because centering them entails building a dense\n",
      " |      matrix which in common use cases is likely to be too large to fit in\n",
      " |      memory.\n",
      " |  \n",
      " |  with_std : bool, default=True\n",
      " |      If True, scale the data to unit variance (or equivalently,\n",
      " |      unit standard deviation).\n",
      " |  \n",
      " |  Attributes\n",
      " |  ----------\n",
      " |  scale_ : ndarray of shape (n_features,) or None\n",
      " |      Per feature relative scaling of the data to achieve zero mean and unit\n",
      " |      variance. Generally this is calculated using `np.sqrt(var_)`. If a\n",
      " |      variance is zero, we can't achieve unit variance, and the data is left\n",
      " |      as-is, giving a scaling factor of 1. `scale_` is equal to `None`\n",
      " |      when `with_std=False`.\n",
      " |  \n",
      " |      .. versionadded:: 0.17\n",
      " |         *scale_*\n",
      " |  \n",
      " |  mean_ : ndarray of shape (n_features,) or None\n",
      " |      The mean value for each feature in the training set.\n",
      " |      Equal to ``None`` when ``with_mean=False``.\n",
      " |  \n",
      " |  var_ : ndarray of shape (n_features,) or None\n",
      " |      The variance for each feature in the training set. Used to compute\n",
      " |      `scale_`. Equal to ``None`` when ``with_std=False``.\n",
      " |  \n",
      " |  n_features_in_ : int\n",
      " |      Number of features seen during :term:`fit`.\n",
      " |  \n",
      " |      .. versionadded:: 0.24\n",
      " |  \n",
      " |  feature_names_in_ : ndarray of shape (`n_features_in_`,)\n",
      " |      Names of features seen during :term:`fit`. Defined only when `X`\n",
      " |      has feature names that are all strings.\n",
      " |  \n",
      " |      .. versionadded:: 1.0\n",
      " |  \n",
      " |  n_samples_seen_ : int or ndarray of shape (n_features,)\n",
      " |      The number of samples processed by the estimator for each feature.\n",
      " |      If there are no missing samples, the ``n_samples_seen`` will be an\n",
      " |      integer, otherwise it will be an array of dtype int. If\n",
      " |      `sample_weights` are used it will be a float (if no missing data)\n",
      " |      or an array of dtype float that sums the weights seen so far.\n",
      " |      Will be reset on new calls to fit, but increments across\n",
      " |      ``partial_fit`` calls.\n",
      " |  \n",
      " |  See Also\n",
      " |  --------\n",
      " |  scale : Equivalent function without the estimator API.\n",
      " |  \n",
      " |  :class:`~sklearn.decomposition.PCA` : Further removes the linear\n",
      " |      correlation across features with 'whiten=True'.\n",
      " |  \n",
      " |  Notes\n",
      " |  -----\n",
      " |  NaNs are treated as missing values: disregarded in fit, and maintained in\n",
      " |  transform.\n",
      " |  \n",
      " |  We use a biased estimator for the standard deviation, equivalent to\n",
      " |  `numpy.std(x, ddof=0)`. Note that the choice of `ddof` is unlikely to\n",
      " |  affect model performance.\n",
      " |  \n",
      " |  For a comparison of the different scalers, transformers, and normalizers,\n",
      " |  see :ref:`examples/preprocessing/plot_all_scaling.py\n",
      " |  <sphx_glr_auto_examples_preprocessing_plot_all_scaling.py>`.\n",
      " |  \n",
      " |  Examples\n",
      " |  --------\n",
      " |  >>> from sklearn.preprocessing import StandardScaler\n",
      " |  >>> data = [[0, 0], [0, 0], [1, 1], [1, 1]]\n",
      " |  >>> scaler = StandardScaler()\n",
      " |  >>> print(scaler.fit(data))\n",
      " |  StandardScaler()\n",
      " |  >>> print(scaler.mean_)\n",
      " |  [0.5 0.5]\n",
      " |  >>> print(scaler.transform(data))\n",
      " |  [[-1. -1.]\n",
      " |   [-1. -1.]\n",
      " |   [ 1.  1.]\n",
      " |   [ 1.  1.]]\n",
      " |  >>> print(scaler.transform([[2, 2]]))\n",
      " |  [[3. 3.]]\n",
      " |  \n",
      " |  Method resolution order:\n",
      " |      StandardScaler\n",
      " |      sklearn.base._OneToOneFeatureMixin\n",
      " |      sklearn.base.TransformerMixin\n",
      " |      sklearn.base.BaseEstimator\n",
      " |      builtins.object\n",
      " |  \n",
      " |  Methods defined here:\n",
      " |  \n",
      " |  __init__(self, *, copy=True, with_mean=True, with_std=True)\n",
      " |      Initialize self.  See help(type(self)) for accurate signature.\n",
      " |  \n",
      " |  fit(self, X, y=None, sample_weight=None)\n",
      " |      Compute the mean and std to be used for later scaling.\n",
      " |      \n",
      " |      Parameters\n",
      " |      ----------\n",
      " |      X : {array-like, sparse matrix} of shape (n_samples, n_features)\n",
      " |          The data used to compute the mean and standard deviation\n",
      " |          used for later scaling along the features axis.\n",
      " |      \n",
      " |      y : None\n",
      " |          Ignored.\n",
      " |      \n",
      " |      sample_weight : array-like of shape (n_samples,), default=None\n",
      " |          Individual weights for each sample.\n",
      " |      \n",
      " |          .. versionadded:: 0.24\n",
      " |             parameter *sample_weight* support to StandardScaler.\n",
      " |      \n",
      " |      Returns\n",
      " |      -------\n",
      " |      self : object\n",
      " |          Fitted scaler.\n",
      " |  \n",
      " |  inverse_transform(self, X, copy=None)\n",
      " |      Scale back the data to the original representation.\n",
      " |      \n",
      " |      Parameters\n",
      " |      ----------\n",
      " |      X : {array-like, sparse matrix} of shape (n_samples, n_features)\n",
      " |          The data used to scale along the features axis.\n",
      " |      copy : bool, default=None\n",
      " |          Copy the input X or not.\n",
      " |      \n",
      " |      Returns\n",
      " |      -------\n",
      " |      X_tr : {ndarray, sparse matrix} of shape (n_samples, n_features)\n",
      " |          Transformed array.\n",
      " |  \n",
      " |  partial_fit(self, X, y=None, sample_weight=None)\n",
      " |      Online computation of mean and std on X for later scaling.\n",
      " |      \n",
      " |      All of X is processed as a single batch. This is intended for cases\n",
      " |      when :meth:`fit` is not feasible due to very large number of\n",
      " |      `n_samples` or because X is read from a continuous stream.\n",
      " |      \n",
      " |      The algorithm for incremental mean and std is given in Equation 1.5a,b\n",
      " |      in Chan, Tony F., Gene H. Golub, and Randall J. LeVeque. \"Algorithms\n",
      " |      for computing the sample variance: Analysis and recommendations.\"\n",
      " |      The American Statistician 37.3 (1983): 242-247:\n",
      " |      \n",
      " |      Parameters\n",
      " |      ----------\n",
      " |      X : {array-like, sparse matrix} of shape (n_samples, n_features)\n",
      " |          The data used to compute the mean and standard deviation\n",
      " |          used for later scaling along the features axis.\n",
      " |      \n",
      " |      y : None\n",
      " |          Ignored.\n",
      " |      \n",
      " |      sample_weight : array-like of shape (n_samples,), default=None\n",
      " |          Individual weights for each sample.\n",
      " |      \n",
      " |          .. versionadded:: 0.24\n",
      " |             parameter *sample_weight* support to StandardScaler.\n",
      " |      \n",
      " |      Returns\n",
      " |      -------\n",
      " |      self : object\n",
      " |          Fitted scaler.\n",
      " |  \n",
      " |  transform(self, X, copy=None)\n",
      " |      Perform standardization by centering and scaling.\n",
      " |      \n",
      " |      Parameters\n",
      " |      ----------\n",
      " |      X : {array-like, sparse matrix of shape (n_samples, n_features)\n",
      " |          The data used to scale along the features axis.\n",
      " |      copy : bool, default=None\n",
      " |          Copy the input X or not.\n",
      " |      \n",
      " |      Returns\n",
      " |      -------\n",
      " |      X_tr : {ndarray, sparse matrix} of shape (n_samples, n_features)\n",
      " |          Transformed array.\n",
      " |  \n",
      " |  ----------------------------------------------------------------------\n",
      " |  Methods inherited from sklearn.base._OneToOneFeatureMixin:\n",
      " |  \n",
      " |  get_feature_names_out(self, input_features=None)\n",
      " |      Get output feature names for transformation.\n",
      " |      \n",
      " |      Parameters\n",
      " |      ----------\n",
      " |      input_features : array-like of str or None, default=None\n",
      " |          Input features.\n",
      " |      \n",
      " |          - If `input_features` is `None`, then `feature_names_in_` is\n",
      " |            used as feature names in. If `feature_names_in_` is not defined,\n",
      " |            then names are generated: `[x0, x1, ..., x(n_features_in_)]`.\n",
      " |          - If `input_features` is an array-like, then `input_features` must\n",
      " |            match `feature_names_in_` if `feature_names_in_` is defined.\n",
      " |      \n",
      " |      Returns\n",
      " |      -------\n",
      " |      feature_names_out : ndarray of str objects\n",
      " |          Same as input features.\n",
      " |  \n",
      " |  ----------------------------------------------------------------------\n",
      " |  Data descriptors inherited from sklearn.base._OneToOneFeatureMixin:\n",
      " |  \n",
      " |  __dict__\n",
      " |      dictionary for instance variables (if defined)\n",
      " |  \n",
      " |  __weakref__\n",
      " |      list of weak references to the object (if defined)\n",
      " |  \n",
      " |  ----------------------------------------------------------------------\n",
      " |  Methods inherited from sklearn.base.TransformerMixin:\n",
      " |  \n",
      " |  fit_transform(self, X, y=None, **fit_params)\n",
      " |      Fit to data, then transform it.\n",
      " |      \n",
      " |      Fits transformer to `X` and `y` with optional parameters `fit_params`\n",
      " |      and returns a transformed version of `X`.\n",
      " |      \n",
      " |      Parameters\n",
      " |      ----------\n",
      " |      X : array-like of shape (n_samples, n_features)\n",
      " |          Input samples.\n",
      " |      \n",
      " |      y :  array-like of shape (n_samples,) or (n_samples, n_outputs),                 default=None\n",
      " |          Target values (None for unsupervised transformations).\n",
      " |      \n",
      " |      **fit_params : dict\n",
      " |          Additional fit parameters.\n",
      " |      \n",
      " |      Returns\n",
      " |      -------\n",
      " |      X_new : ndarray array of shape (n_samples, n_features_new)\n",
      " |          Transformed array.\n",
      " |  \n",
      " |  ----------------------------------------------------------------------\n",
      " |  Methods inherited from sklearn.base.BaseEstimator:\n",
      " |  \n",
      " |  __getstate__(self)\n",
      " |  \n",
      " |  __repr__(self, N_CHAR_MAX=700)\n",
      " |      Return repr(self).\n",
      " |  \n",
      " |  __setstate__(self, state)\n",
      " |  \n",
      " |  get_params(self, deep=True)\n",
      " |      Get parameters for this estimator.\n",
      " |      \n",
      " |      Parameters\n",
      " |      ----------\n",
      " |      deep : bool, default=True\n",
      " |          If True, will return the parameters for this estimator and\n",
      " |          contained subobjects that are estimators.\n",
      " |      \n",
      " |      Returns\n",
      " |      -------\n",
      " |      params : dict\n",
      " |          Parameter names mapped to their values.\n",
      " |  \n",
      " |  set_params(self, **params)\n",
      " |      Set the parameters of this estimator.\n",
      " |      \n",
      " |      The method works on simple estimators as well as on nested objects\n",
      " |      (such as :class:`~sklearn.pipeline.Pipeline`). The latter have\n",
      " |      parameters of the form ``<component>__<parameter>`` so that it's\n",
      " |      possible to update each component of a nested object.\n",
      " |      \n",
      " |      Parameters\n",
      " |      ----------\n",
      " |      **params : dict\n",
      " |          Estimator parameters.\n",
      " |      \n",
      " |      Returns\n",
      " |      -------\n",
      " |      self : estimator instance\n",
      " |          Estimator instance.\n",
      "\n"
     ]
    }
   ],
   "source": [
    "import sklearn\n",
    "help(sklearn.preprocessing.StandardScaler)"
   ]
  },
  {
   "cell_type": "code",
   "execution_count": 83,
   "metadata": {},
   "outputs": [],
   "source": [
    "#进行归一化和标准化\n",
    "from sklearn.preprocessing import StandardScaler\n",
    "sc = StandardScaler()\n",
    "train_X = sc.fit_transform(train_X)\n",
    "test_X = sc.transform(test_X)"
   ]
  },
  {
   "cell_type": "code",
   "execution_count": 84,
   "metadata": {},
   "outputs": [
    {
     "data": {
      "text/plain": [
       "KNeighborsClassifier()"
      ]
     },
     "execution_count": 84,
     "metadata": {},
     "output_type": "execute_result"
    }
   ],
   "source": [
    "# Fitting K-NN to the Training set\n",
    "from sklearn.neighbors import KNeighborsClassifier\n",
    "#KNeighborsClassifier()\n",
    "\n",
    "classifier = KNeighborsClassifier(n_neighbors = 5, metric = 'minkowski', p = 2)\n",
    "classifier.fit(train_X, train_Y)"
   ]
  },
  {
   "cell_type": "code",
   "execution_count": 85,
   "metadata": {},
   "outputs": [],
   "source": [
    "pred_Y = classifier.predict(test_X)\n",
    "test_Y = test_Y.tolist()"
   ]
  },
  {
   "cell_type": "code",
   "execution_count": 86,
   "metadata": {
    "collapsed": true
   },
   "outputs": [
    {
     "data": {
      "text/plain": [
       "array([1., 1., 2., 2., 2., 4., 3., 3., 3., 1., 4., 4., 1., 4., 2., 2., 4.,\n",
       "       1., 2., 5., 3., 2., 2., 1., 1., 4., 1., 3., 3., 4., 5., 3., 3., 5.,\n",
       "       2., 3., 4., 3., 5., 3., 3., 5., 1., 1., 1., 4., 3., 2., 4., 3., 2.,\n",
       "       1., 1., 5., 2., 1., 1., 1., 5., 4., 2., 1., 3., 3., 1., 5., 2., 1.,\n",
       "       4., 2., 4., 3., 2., 3., 4., 3., 4., 5., 5., 2., 4., 4., 1., 3., 5.,\n",
       "       3., 1., 2., 3., 3., 2., 1., 2., 2., 2., 2., 4., 3., 3., 3., 3., 3.,\n",
       "       3., 1., 2., 5., 3., 2., 1., 4., 1., 1., 4., 1., 3., 4., 4., 4., 4.,\n",
       "       5., 4., 2., 2., 4., 4., 1., 2., 2., 2., 4., 5., 1., 4., 2., 3., 3.,\n",
       "       1., 5., 5., 2., 4., 5., 5., 4., 5., 2., 5., 2., 1., 1., 4., 1., 5.,\n",
       "       4., 2., 5., 3., 2., 2., 2., 4., 1., 5., 1., 5., 3., 5., 2., 5., 5.,\n",
       "       2., 4., 1., 5., 4., 2., 4., 5., 5., 2., 2., 5., 4., 1., 1., 1., 2.,\n",
       "       3., 5., 4., 4., 4., 3., 2., 3., 2., 2., 2., 3., 5., 5., 4., 1., 4.,\n",
       "       5., 1., 4., 3., 1., 3., 4., 3., 5., 5., 5., 3., 1., 2., 5., 1., 2.,\n",
       "       1., 2., 2., 4., 5., 4., 1., 2., 1., 1., 4., 1., 2., 2., 4., 4., 4.,\n",
       "       4., 4., 2., 1., 2., 3., 1., 5., 2., 2., 3., 1., 5., 3., 4., 1., 1.,\n",
       "       5., 4., 5., 5., 2., 1., 3., 3., 5., 4., 3., 5., 1., 2., 1., 4., 5.,\n",
       "       5., 2., 2., 2., 5., 3., 3., 4., 1., 4., 4., 3., 4., 5., 5., 3., 4.,\n",
       "       5., 4., 4., 3., 4., 2., 5., 5., 4., 1., 4., 3., 4., 1., 5., 4., 1.,\n",
       "       2., 1., 3., 5., 5., 5., 2., 3., 5., 5., 4., 2., 5., 2., 4., 3., 1.,\n",
       "       3., 3., 5., 5., 5., 4., 4., 2., 2., 2., 2., 4., 5., 1., 2., 3., 3.,\n",
       "       2., 5., 5., 1., 3., 3., 5., 3., 3., 1., 2., 4., 3., 2., 2., 1., 2.,\n",
       "       1., 1., 1., 4., 4., 5., 2., 4., 4., 4., 3., 5., 2., 4., 2., 4., 1.,\n",
       "       3., 4., 3., 3., 4., 4., 3., 4., 4., 4., 4., 5., 1., 4., 3., 2., 4.,\n",
       "       2., 2., 5., 3., 5., 4., 2., 4., 1., 2., 4., 5., 1., 1., 1., 5., 4.,\n",
       "       2., 1., 2., 5., 4.])"
      ]
     },
     "execution_count": 86,
     "metadata": {},
     "output_type": "execute_result"
    }
   ],
   "source": [
    "y_test_np = np.asarray(test_Y)\n",
    "y_test_np"
   ]
  },
  {
   "cell_type": "code",
   "execution_count": 87,
   "metadata": {
    "collapsed": true
   },
   "outputs": [
    {
     "name": "stdout",
     "output_type": "stream",
     "text": [
      "[1. 1. 4. 2. 2. 2. 4. 4. 2. 4. 2. 5. 1. 2. 5. 4. 1. 3. 3. 4. 5. 2. 4. 2.\n",
      " 2. 2. 1. 2. 1. 4. 1. 2. 1. 2. 1. 2. 5. 3. 3. 2. 4. 1. 2. 1. 4. 3. 4. 5.\n",
      " 2. 3. 2. 1. 4. 5. 4. 2. 2. 2. 1. 1. 4. 3. 1. 3. 4. 1. 2. 5. 1. 2. 4. 1.\n",
      " 1. 3. 4. 4. 1. 3. 1. 3. 1. 2. 4. 4. 4. 1. 1. 1. 1. 4. 5. 2. 4. 1. 3. 4.\n",
      " 2. 1. 3. 3. 5. 1. 3. 5. 2. 1. 3. 3. 1. 2. 4. 3. 3. 1. 4. 1. 3. 2. 2. 2.\n",
      " 4. 5. 4. 1. 2. 1. 4. 2. 3. 2. 2. 2. 1. 2. 1. 2. 4. 2. 1. 3. 4. 5. 2. 2.\n",
      " 2. 4. 1. 4. 2. 4. 1. 2. 2. 1. 2. 3. 2. 1. 3. 1. 2. 3. 2. 3. 1. 2. 1. 2.\n",
      " 1. 3. 2. 3. 2. 5. 3. 1. 4. 3. 1. 5. 4. 2. 3. 4. 3. 3. 2. 5. 4. 4. 1. 1.\n",
      " 3. 5. 4. 1. 4. 3. 2. 4. 1. 4. 4. 2. 2. 1. 5. 3. 2. 2. 4. 1. 3. 4. 3. 3.\n",
      " 3. 5. 2. 2. 4. 2. 4. 2. 3. 4. 2. 5. 2. 1. 3. 4. 1. 5. 3. 2. 2. 2. 3. 3.\n",
      " 4. 1. 1. 2. 4. 5. 4. 1. 3. 4. 4. 3. 5. 2. 1. 1. 1. 5. 3. 1. 3. 4. 1. 3.\n",
      " 1. 3. 4. 3. 2. 1. 1. 4. 1. 4. 4. 4. 4. 1. 5. 4. 2. 3. 3. 5. 2. 1. 1. 1.\n",
      " 3. 1. 4. 3. 1. 2. 2. 4. 3. 3. 3. 2. 5. 5. 3. 4. 1. 3. 4. 4. 4. 1. 1. 1.\n",
      " 4. 2. 4. 1. 1. 4. 1. 3. 4. 4. 1. 4. 3. 4. 3. 2. 4. 3. 4. 2. 2. 4. 5. 3.\n",
      " 2. 5. 3. 3. 3. 2. 3. 4. 4. 5. 3. 2. 3. 1. 2. 3. 5. 5. 4. 2. 2. 4. 1. 3.\n",
      " 2. 1. 5. 3. 1. 2. 1. 5. 3. 4. 4. 4. 1. 3. 1. 1. 4. 4. 4. 1. 2. 2. 4. 1.\n",
      " 5. 5. 2. 2. 1. 3. 3. 1. 4. 1. 5. 1. 4. 3. 4. 5. 4. 2. 4. 1. 3. 2. 4. 3.\n",
      " 1. 5. 4. 3. 2.]\n"
     ]
    }
   ],
   "source": [
    "print(pred_Y)"
   ]
  },
  {
   "cell_type": "code",
   "execution_count": 89,
   "metadata": {},
   "outputs": [
    {
     "data": {
      "text/plain": [
       "2061"
      ]
     },
     "execution_count": 89,
     "metadata": {},
     "output_type": "execute_result"
    }
   ],
   "source": [
    "len(Y_map_label)"
   ]
  },
  {
   "cell_type": "markdown",
   "metadata": {},
   "source": [
    "#### 方式2： 直接进行标签的匹配"
   ]
  },
  {
   "cell_type": "code",
   "execution_count": 94,
   "metadata": {},
   "outputs": [
    {
     "data": {
      "text/plain": [
       "KNeighborsClassifier()"
      ]
     },
     "execution_count": 94,
     "metadata": {},
     "output_type": "execute_result"
    }
   ],
   "source": [
    "#划分训练集和测试集， A--image, Y--leibei, train_X, train_Y;--- model,  testX---model---predY ---test_Y\n",
    "from sklearn.neighbors import KNeighborsClassifier\n",
    "#KNeighborsClassifier()\n",
    "#进行归一化和标准化\n",
    "from sklearn.preprocessing import StandardScaler\n",
    "\n",
    "A=A.T\n",
    "train_X,test_X,train_Y,test_Y = train_test_split(A, Y_map_label, test_size=0.2, random_state=13)\n",
    "# train_X.shape,test_X.shape,train_Y.shape,test_Y.shape\n",
    "\n",
    "sc = StandardScaler()\n",
    "train_X = sc.fit_transform(train_X)\n",
    "test_X = sc.transform(test_X)\n",
    "# Fitting K-NN to the Training set\n",
    "classifier = KNeighborsClassifier(n_neighbors = 5, metric = 'minkowski', p = 2)\n",
    "classifier.fit(train_X, train_Y)"
   ]
  },
  {
   "cell_type": "code",
   "execution_count": 95,
   "metadata": {},
   "outputs": [],
   "source": [
    "pred_Y = classifier.predict(test_X)"
   ]
  },
  {
   "cell_type": "code",
   "execution_count": 100,
   "metadata": {},
   "outputs": [
    {
     "name": "stdout",
     "output_type": "stream",
     "text": [
      "['anger' 'fear' 'surprise' 'fear' 'anger' 'sad' 'surprise' 'surprise'\n",
      " 'sad' 'surprise' 'sad' 'fear' 'fear' 'sad' 'fear' 'surprise' 'happy'\n",
      " 'anger' 'anger' 'fear' 'fear' 'sad' 'surprise' 'sad' 'sad' 'sad' 'happy'\n",
      " 'sad' 'happy' 'surprise' 'happy' 'sad' 'anger' 'sad' 'happy' 'sad' 'fear'\n",
      " 'anger' 'anger' 'sad' 'surprise' 'happy' 'anger' 'happy' 'surprise'\n",
      " 'anger' 'surprise' 'fear' 'sad' 'anger' 'sad' 'happy' 'surprise' 'fear'\n",
      " 'surprise' 'sad' 'sad' 'sad' 'happy' 'happy' 'fear' 'anger' 'happy'\n",
      " 'anger' 'surprise' 'happy' 'fear' 'fear' 'happy' 'sad' 'surprise' 'happy'\n",
      " 'happy' 'anger' 'surprise' 'surprise' 'happy' 'anger' 'happy' 'anger'\n",
      " 'happy' 'sad' 'surprise' 'surprise' 'surprise' 'happy' 'happy' 'anger'\n",
      " 'happy' 'surprise' 'fear' 'sad' 'surprise' 'happy' 'anger' 'surprise'\n",
      " 'sad' 'happy' 'anger' 'anger' 'fear' 'happy' 'anger' 'fear' 'sad' 'happy'\n",
      " 'anger' 'anger' 'happy' 'sad' 'surprise' 'anger' 'anger' 'fear'\n",
      " 'surprise' 'fear' 'anger' 'sad' 'sad' 'sad' 'surprise' 'fear' 'surprise'\n",
      " 'happy' 'sad' 'happy' 'surprise' 'sad' 'anger' 'anger' 'sad' 'sad'\n",
      " 'happy' 'sad' 'fear' 'sad' 'surprise' 'sad' 'happy' 'anger' 'surprise'\n",
      " 'fear' 'sad' 'sad' 'sad' 'surprise' 'happy' 'surprise' 'sad' 'fear'\n",
      " 'happy' 'sad' 'sad' 'happy' 'sad' 'anger' 'anger' 'happy' 'anger' 'happy'\n",
      " 'anger' 'anger' 'anger' 'anger' 'happy' 'sad' 'happy' 'sad' 'anger'\n",
      " 'anger' 'sad' 'anger' 'sad' 'fear' 'anger' 'happy' 'surprise' 'anger'\n",
      " 'happy' 'fear' 'surprise' 'sad' 'anger' 'fear' 'anger' 'anger' 'sad'\n",
      " 'fear' 'surprise' 'surprise' 'anger' 'anger' 'anger' 'fear' 'surprise'\n",
      " 'happy' 'surprise' 'anger' 'sad' 'surprise' 'happy' 'surprise' 'surprise'\n",
      " 'sad' 'sad' 'anger' 'fear' 'anger' 'sad' 'sad' 'surprise' 'happy' 'anger'\n",
      " 'surprise' 'anger' 'anger' 'anger' 'fear' 'sad' 'sad' 'surprise' 'sad'\n",
      " 'surprise' 'anger' 'anger' 'surprise' 'sad' 'fear' 'sad' 'happy' 'anger'\n",
      " 'surprise' 'anger' 'fear' 'anger' 'sad' 'sad' 'sad' 'anger' 'anger'\n",
      " 'surprise' 'happy' 'happy' 'sad' 'surprise' 'fear' 'surprise' 'anger'\n",
      " 'anger' 'fear' 'surprise' 'anger' 'fear' 'sad' 'anger' 'anger' 'happy'\n",
      " 'fear' 'anger' 'happy' 'anger' 'fear' 'fear' 'anger' 'happy' 'anger'\n",
      " 'surprise' 'anger' 'sad' 'happy' 'happy' 'surprise' 'happy' 'surprise'\n",
      " 'surprise' 'fear' 'fear' 'happy' 'fear' 'surprise' 'sad' 'anger' 'anger'\n",
      " 'fear' 'sad' 'happy' 'anger' 'happy' 'anger' 'happy' 'surprise' 'anger'\n",
      " 'fear' 'anger' 'sad' 'surprise' 'anger' 'anger' 'anger' 'anger' 'fear'\n",
      " 'fear' 'anger' 'surprise' 'happy' 'anger' 'surprise' 'surprise'\n",
      " 'surprise' 'fear' 'happy' 'fear' 'surprise' 'anger' 'surprise' 'fear'\n",
      " 'happy' 'surprise' 'happy' 'anger' 'surprise' 'surprise' 'happy'\n",
      " 'surprise' 'anger' 'surprise' 'anger' 'sad' 'surprise' 'anger' 'surprise'\n",
      " 'fear' 'sad' 'surprise' 'fear' 'anger' 'sad' 'fear' 'anger' 'anger'\n",
      " 'anger' 'sad' 'anger' 'surprise' 'surprise' 'fear' 'anger' 'anger'\n",
      " 'anger' 'fear' 'sad' 'anger' 'fear' 'fear' 'surprise' 'fear' 'fear'\n",
      " 'surprise' 'happy' 'anger' 'anger' 'happy' 'fear' 'anger' 'happy' 'sad'\n",
      " 'happy' 'fear' 'anger' 'surprise' 'surprise' 'surprise' 'happy' 'anger'\n",
      " 'anger' 'anger' 'surprise' 'surprise' 'surprise' 'happy' 'sad' 'anger'\n",
      " 'surprise' 'happy' 'fear' 'fear' 'sad' 'sad' 'happy' 'anger' 'anger'\n",
      " 'happy' 'surprise' 'happy' 'fear' 'happy' 'surprise' 'anger' 'surprise'\n",
      " 'fear' 'surprise' 'sad' 'surprise' 'anger' 'anger' 'sad' 'surprise'\n",
      " 'anger' 'happy' 'fear' 'surprise' 'anger' 'sad']\n",
      "413\n"
     ]
    }
   ],
   "source": [
    "print(pred_Y)\n",
    "print(len(pred_Y))"
   ]
  },
  {
   "cell_type": "code",
   "execution_count": 98,
   "metadata": {},
   "outputs": [
    {
     "name": "stdout",
     "output_type": "stream",
     "text": [
      "['happy', 'happy', 'sad', 'sad', 'sad', 'surprise', 'anger', 'anger', 'anger', 'happy', 'surprise', 'surprise', 'happy', 'surprise', 'sad', 'sad', 'surprise', 'happy', 'sad', 'fear', 'anger', 'sad', 'sad', 'happy', 'happy', 'surprise', 'happy', 'anger', 'anger', 'surprise', 'fear', 'anger', 'anger', 'fear', 'sad', 'anger', 'surprise', 'anger', 'fear', 'anger', 'anger', 'fear', 'happy', 'happy', 'happy', 'surprise', 'anger', 'sad', 'surprise', 'anger', 'sad', 'happy', 'happy', 'fear', 'sad', 'happy', 'happy', 'happy', 'fear', 'surprise', 'sad', 'happy', 'anger', 'anger', 'happy', 'fear', 'sad', 'happy', 'surprise', 'sad', 'surprise', 'anger', 'sad', 'anger', 'surprise', 'anger', 'surprise', 'fear', 'fear', 'sad', 'surprise', 'surprise', 'happy', 'anger', 'fear', 'anger', 'happy', 'sad', 'anger', 'anger', 'sad', 'happy', 'sad', 'sad', 'sad', 'sad', 'surprise', 'anger', 'anger', 'anger', 'anger', 'anger', 'anger', 'happy', 'sad', 'fear', 'anger', 'sad', 'happy', 'surprise', 'happy', 'happy', 'surprise', 'happy', 'anger', 'surprise', 'surprise', 'surprise', 'surprise', 'fear', 'surprise', 'sad', 'sad', 'surprise', 'surprise', 'happy', 'sad', 'sad', 'sad', 'surprise', 'fear', 'happy', 'surprise', 'sad', 'anger', 'anger', 'happy', 'fear', 'fear', 'sad', 'surprise', 'fear', 'fear', 'surprise', 'fear', 'sad', 'fear', 'sad', 'happy', 'happy', 'surprise', 'happy', 'fear', 'surprise', 'sad', 'fear', 'anger', 'sad', 'sad', 'sad', 'surprise', 'happy', 'fear', 'happy', 'fear', 'anger', 'fear', 'sad', 'fear', 'fear', 'sad', 'surprise', 'happy', 'fear', 'surprise', 'sad', 'surprise', 'fear', 'fear', 'sad', 'sad', 'fear', 'surprise', 'happy', 'happy', 'happy', 'sad', 'anger', 'fear', 'surprise', 'surprise', 'surprise', 'anger', 'sad', 'anger', 'sad', 'sad', 'sad', 'anger', 'fear', 'fear', 'surprise', 'happy', 'surprise', 'fear', 'happy', 'surprise', 'anger', 'happy', 'anger', 'surprise', 'anger', 'fear', 'fear', 'fear', 'anger', 'happy', 'sad', 'fear', 'happy', 'sad', 'happy', 'sad', 'sad', 'surprise', 'fear', 'surprise', 'happy', 'sad', 'happy', 'happy', 'surprise', 'happy', 'sad', 'sad', 'surprise', 'surprise', 'surprise', 'surprise', 'surprise', 'sad', 'happy', 'sad', 'anger', 'happy', 'fear', 'sad', 'sad', 'anger', 'happy', 'fear', 'anger', 'surprise', 'happy', 'happy', 'fear', 'surprise', 'fear', 'fear', 'sad', 'happy', 'anger', 'anger', 'fear', 'surprise', 'anger', 'fear', 'happy', 'sad', 'happy', 'surprise', 'fear', 'fear', 'sad', 'sad', 'sad', 'fear', 'anger', 'anger', 'surprise', 'happy', 'surprise', 'surprise', 'anger', 'surprise', 'fear', 'fear', 'anger', 'surprise', 'fear', 'surprise', 'surprise', 'anger', 'surprise', 'sad', 'fear', 'fear', 'surprise', 'happy', 'surprise', 'anger', 'surprise', 'happy', 'fear', 'surprise', 'happy', 'sad', 'happy', 'anger', 'fear', 'fear', 'fear', 'sad', 'anger', 'fear', 'fear', 'surprise', 'sad', 'fear', 'sad', 'surprise', 'anger', 'happy', 'anger', 'anger', 'fear', 'fear', 'fear', 'surprise', 'surprise', 'sad', 'sad', 'sad', 'sad', 'surprise', 'fear', 'happy', 'sad', 'anger', 'anger', 'sad', 'fear', 'fear', 'happy', 'anger', 'anger', 'fear', 'anger', 'anger', 'happy', 'sad', 'surprise', 'anger', 'sad', 'sad', 'happy', 'sad', 'happy', 'happy', 'happy', 'surprise', 'surprise', 'fear', 'sad', 'surprise', 'surprise', 'surprise', 'anger', 'fear', 'sad', 'surprise', 'sad', 'surprise', 'happy', 'anger', 'surprise', 'anger', 'anger', 'surprise', 'surprise', 'anger', 'surprise', 'surprise', 'surprise', 'surprise', 'fear', 'happy', 'surprise', 'anger', 'sad', 'surprise', 'sad', 'sad', 'fear', 'anger', 'fear', 'surprise', 'sad', 'surprise', 'happy', 'sad', 'surprise', 'fear', 'happy', 'happy', 'happy', 'fear', 'surprise', 'sad', 'happy', 'sad', 'fear', 'surprise']\n",
      "413\n"
     ]
    }
   ],
   "source": [
    "print(test_Y)\n",
    "print(len(test_Y))"
   ]
  },
  {
   "cell_type": "code",
   "execution_count": 108,
   "metadata": {},
   "outputs": [
    {
     "name": "stdout",
     "output_type": "stream",
     "text": [
      "0.1937046004842615\n",
      "0.1937046004842615\n",
      "0.1937046004842615\n"
     ]
    }
   ],
   "source": [
    "### 进行效果评价\n",
    "from sklearn.metrics import accuracy_score \n",
    "from sklearn.metrics import auc \n",
    "from sklearn.metrics import f1_score \n",
    "from sklearn.metrics import precision_score\n",
    "\n",
    "acc=accuracy_score(test_Y, pred_Y)\n",
    "pre=precision_score(test_Y, pred_Y,average='micro')\n",
    "score=f1_score(test_Y, pred_Y,average='micro')\n",
    "# area=auc(test_Y, pred_Y)\n",
    "\n",
    "print(acc)\n",
    "print(pre)\n",
    "print(score)\n",
    "# print(area)"
   ]
  },
  {
   "cell_type": "code",
   "execution_count": 111,
   "metadata": {},
   "outputs": [
    {
     "name": "stdout",
     "output_type": "stream",
     "text": [
      "Found 80 correct labels\n"
     ]
    },
    {
     "data": {
      "image/png": "[encoded data removed]",
      "text/plain": [
       "<Figure size 432x288 with 9 Axes>"
      ]
     },
     "metadata": {
      "needs_background": "light"
     },
     "output_type": "display_data"
    }
   ],
   "source": [
    "correct = np.where(pred_Y==test_Y)[0]\n",
    "print (\"Found %d correct labels\" % len(correct))\n",
    "for i, correct in enumerate(correct[40:49]):\n",
    "    plt.subplot(3,3,i+1)\n",
    "    plt.imshow(test_X[correct].reshape(50,50), cmap='gray', interpolation='none')\n",
    "    plt.title(\"Predicted {}, Class {}\".format(pred_Y[correct], test_Y[correct]))"
   ]
  },
  {
   "cell_type": "code",
   "execution_count": null,
   "metadata": {},
   "outputs": [],
   "source": [
    "#### 参考："
   ]
  },
  {
   "cell_type": "code",
   "execution_count": null,
   "metadata": {},
   "outputs": [],
   "source": [
    "分类模型的评价指标：https://zhuanlan.zhihu.com/p/110015537\n",
    "sklearn用于模型评价：https://blog.csdn.net/weixin_44436677/article/details/105985358"
   ]
  }
 ],
 "metadata": {
  "kernelspec": {
   "display_name": "Python 3 (ipykernel)",
   "language": "python",
   "name": "python3"
  },
  "language_info": {
   "codemirror_mode": {
    "name": "ipython",
    "version": 3
   },
   "file_extension": ".py",
   "mimetype": "text/x-python",
   "name": "python",
   "nbconvert_exporter": "python",
   "pygments_lexer": "ipython3",
   "version": "3.9.6"
  },
  "varInspector": {
   "cols": {
    "lenName": 16,
    "lenType": 16,
    "lenVar": 40
   },
   "kernels_config": {
    "python": {
     "delete_cmd_postfix": "",
     "delete_cmd_prefix": "del ",
     "library": "var_list.py",
     "varRefreshCmd": "print(var_dic_list())"
    },
    "r": {
     "delete_cmd_postfix": ") ",
     "delete_cmd_prefix": "rm(",
     "library": "var_list.r",
     "varRefreshCmd": "cat(var_dic_list()) "
    }
   },
   "types_to_exclude": [
    "module",
    "function",
    "builtin_function_or_method",
    "instance",
    "_Feature"
   ],
   "window_display": false
  }
 },
 "nbformat": 4,
 "nbformat_minor": 2
}
