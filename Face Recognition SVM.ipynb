{
 "cells": [
  {
   "cell_type": "markdown",
   "metadata": {},
   "source": [
    "### SVM 用于图像识别的原理\n",
    "SVM（support vector machines, SVM）是一种二分类模型,它的基本模型是定义在特征空间上的间隔最大的线性分类器。\n",
    "SVM的的学习策略就是间隔最大化。\n",
    "参考：https://zhuanlan.zhihu.com/p/93224022\n",
    "SVM学习："
   ]
  },
  {
   "cell_type": "code",
   "execution_count": 1,
   "metadata": {},
   "outputs": [],
   "source": [
    "import os\n",
    "import glob\n",
    "import cv2 \n",
    "import math\n",
    "import numpy as np\n",
    "from keras.utils import to_categorical\n",
    "from scipy.linalg import svd#进行奇异值分解\n",
    "from numpy import linalg as LA\n",
    "import pandas as pd\n",
    "import matplotlib.pyplot as plt\n",
    "from sklearn.model_selection import train_test_split\n",
    "\n",
    "%matplotlib inline"
   ]
  },
  {
   "cell_type": "markdown",
   "metadata": {},
   "source": [
    "##### 进行图像数据预处理"
   ]
  },
  {
   "cell_type": "code",
   "execution_count": 6,
   "metadata": {},
   "outputs": [],
   "source": [
    "#文件所在路径\n",
    "path = glob.glob(\"E:/face_dectection/figure/*/*.jpg\")"
   ]
  },
  {
   "cell_type": "code",
   "execution_count": 7,
   "metadata": {},
   "outputs": [
    {
     "name": "stdout",
     "output_type": "stream",
     "text": [
      "894\n"
     ]
    }
   ],
   "source": [
    "print(len(path))"
   ]
  },
  {
   "cell_type": "code",
   "execution_count": 10,
   "metadata": {},
   "outputs": [
    {
     "name": "stdout",
     "output_type": "stream",
     "text": [
      "742\n"
     ]
    }
   ],
   "source": [
    "X=[]\n",
    "count=0\n",
    "for img in path:\n",
    "    if \"jpg\" in img:\n",
    "        try:\n",
    "            n = cv2.imread(img)#发送读取错误时跳过\n",
    "            gray = cv2.cvtColor(n,cv2.COLOR_BGR2GRAY)\n",
    "        except:\n",
    "            X.append(np.zeros((50,50)))#填充错误值\n",
    "            continue\n",
    "        gray = cv2.resize(gray,(50,50))\n",
    "        X.append(gray)\n",
    "        count=count+1\n",
    "print(count)"
   ]
  },
  {
   "cell_type": "code",
   "execution_count": 12,
   "metadata": {},
   "outputs": [],
   "source": [
    "sizeImg = X[0].shape\n",
    "#创建X个与图片大小一样的0位数组\n",
    "A = np.zeros((sizeImg[0]*sizeImg[1],len(X)))\n",
    "for i in range(0, len(X)):\n",
    "    tmp = (np.array(X[i]).reshape(-1))#转化为一维数组\n",
    "    A[:,i] = np.array(tmp)"
   ]
  },
  {
   "cell_type": "code",
   "execution_count": 13,
   "metadata": {},
   "outputs": [
    {
     "data": {
      "text/plain": [
       "(2500, 894)"
      ]
     },
     "execution_count": 13,
     "metadata": {},
     "output_type": "execute_result"
    }
   ],
   "source": [
    "A.shape"
   ]
  },
  {
   "cell_type": "code",
   "execution_count": 15,
   "metadata": {},
   "outputs": [],
   "source": [
    "Y_map_num = np.zeros((len(X)))#创建临时数组\n",
    "i = 0\n",
    "for img in path:\n",
    "    if \"jpg\" in img:\n",
    "        if \"liuyifei\" in img:\n",
    "            Y_map_num[i]=0\n",
    "        elif \"yangmi\" in img:\n",
    "            Y_map_num[i]=1\n",
    "        elif \"dilireba\" in img:\n",
    "            Y_map_num[i]=2\n",
    "        elif \"liyitong\" in img:\n",
    "            Y_map_num[i]=3\n",
    "        elif \"zhaoliyin\" in img:\n",
    "            Y_map_num[i]=4\n",
    "        i = i+1"
   ]
  },
  {
   "cell_type": "code",
   "execution_count": null,
   "metadata": {},
   "outputs": [],
   "source": [
    "Y_map_label = [0 for x in range(len(X))]\n",
    "i = 0\n",
    "for img in path:\n",
    "    if \"jpg\" in img:\n",
    "        if \"liuyifei\" in img:\n",
    "            Y_map_label[i]=\"liuyifei\"\n",
    "        elif \"yangmi\" in img:\n",
    "            Y_map_label[i]=\"yangmi\"\n",
    "        elif \"dilireba\" in:\n",
    "            Y_map_label[i]=\"dilireba\"\n",
    "        elif \"liyitong\" in img:\n",
    "            Y_map_label[i]=\"liyitong\"\n",
    "        elif \"zhaoliyin\" in img:\n",
    "            Y_map_label[i]=\"zhaoliyin\"\n",
    "        i = i+1"
   ]
  },
  {
   "cell_type": "code",
   "execution_count": 7,
   "metadata": {},
   "outputs": [
    {
     "data": {
      "text/plain": [
       "((4622, 2500), (514, 2500), (4622,), (514,))"
      ]
     },
     "execution_count": 7,
     "metadata": {},
     "output_type": "execute_result"
    }
   ],
   "source": [
    "#进行数据分割\n",
    "A=A.T\n",
    "from sklearn.model_selection import train_test_split\n",
    "train_X,test_X,train_Y,test_Y = train_test_split(A, Y, test_size=0.1, random_state=13)\n",
    "train_X.shape,test_X.shape,train_Y.shape,test_Y.shape"
   ]
  },
  {
   "cell_type": "code",
   "execution_count": 8,
   "metadata": {
    "collapsed": true
   },
   "outputs": [],
   "source": [
    "from sklearn.preprocessing import StandardScaler#去均值和方差归一化\n",
    "sc = StandardScaler()\n",
    "train_X = sc.fit_transform(train_X)\n",
    "test_X = sc.transform(test_X)"
   ]
  },
  {
   "cell_type": "code",
   "execution_count": null,
   "metadata": {},
   "outputs": [],
   "source": [
    "# Fitting SVM to the Training set\n",
    "from sklearn.svm import SVC\n",
    "classifier = SVC(kernel = 'linear', random_state = 0)\n",
    "classifier.fit(train_X, train_Y)"
   ]
  },
  {
   "cell_type": "code",
   "execution_count": 10,
   "metadata": {
    "collapsed": true
   },
   "outputs": [],
   "source": [
    "pred_Y = classifier.predict(test_X)\n",
    "test_Y = test_Y.tolist()"
   ]
  },
  {
   "cell_type": "code",
   "execution_count": 11,
   "metadata": {},
   "outputs": [
    {
     "data": {
      "text/plain": [
       "array([54.,  0., 12.,  5., 32., 21., 10., 41., 43., 11., 21.,  7.,  4.,\n",
       "       36., 54., 48., 43., 24., 21.,  8., 24.,  9.,  0., 23., 14.,  9.,\n",
       "       58., 58., 30., 31.,  8., 37., 34., 37., 59., 54.,  5.,  8., 12.,\n",
       "       39., 32., 42., 44., 48., 23.,  3., 13., 24., 51., 52., 52.,  9.,\n",
       "       51., 23., 17., 39., 25., 14., 31., 33., 56., 10., 24., 16., 41.,\n",
       "       13., 50., 44., 18., 39., 32., 36., 32.,  0., 24., 57., 19.,  3.,\n",
       "       30., 30., 33., 18., 14.,  5., 40., 55., 12., 50., 16., 26.,  0.,\n",
       "       58., 38., 32., 40., 33., 39., 50.,  9., 13.,  0., 33., 19.,  7.,\n",
       "       36., 31., 45.,  4., 56., 19.,  9., 29., 38., 28., 21., 32., 25.,\n",
       "       51.,  9., 50., 29., 33., 14., 17., 14.,  0., 59., 45., 55., 22.,\n",
       "       52.,  3.,  0., 40.,  4., 55., 42.,  8., 48., 11., 13., 36., 34.,\n",
       "        0., 27., 14., 43., 29., 29.,  0., 28., 13., 40., 29.,  0., 18.,\n",
       "       43., 33., 43., 48., 26., 20., 18., 26., 52., 37., 19.,  9., 16.,\n",
       "       47., 32., 15.,  9.,  0., 54., 25.,  0.,  4., 29., 27., 54., 49.,\n",
       "       51., 26., 20., 24., 38., 35., 16., 39., 42., 53., 16., 45., 51.,\n",
       "       47., 13., 51.,  9., 13.,  0., 33., 16., 53., 28.,  0., 36.,  0.,\n",
       "       55.,  0., 15., 54., 16., 54., 12., 51., 30., 39., 25.,  0., 55.,\n",
       "       48., 33., 38., 41., 45., 52.,  4., 21., 17.,  9., 27., 40., 23.,\n",
       "       45., 25., 45., 37.,  5., 39., 47.,  9.,  8., 33., 12., 37., 23.,\n",
       "       27., 17., 52., 37., 30., 11., 48., 38.,  0., 21., 40., 43., 45.,\n",
       "       52., 56., 59.,  0., 24., 12.,  3., 56.,  0., 34., 54., 20.,  0.,\n",
       "        9., 55., 13.,  4., 41., 37., 34., 54., 50., 26., 37., 55., 12.,\n",
       "       17., 21., 17.,  8., 34., 53., 14., 30., 31., 51.,  9., 58., 23.,\n",
       "       25.,  4., 39., 40., 47., 49., 58., 50., 53.,  0., 31., 40., 15.,\n",
       "       41., 57.,  3., 45., 23., 38.,  7., 40., 14., 46., 31.,  0.,  0.,\n",
       "       58.,  5., 53., 52., 30., 52., 51., 51.,  5.,  0., 51., 29., 45.,\n",
       "       36., 15., 24., 15., 42., 14., 52., 36., 35., 20., 26., 32., 28.,\n",
       "       49.,  8., 42., 10., 25., 33., 37., 26., 43., 39., 28., 38., 11.,\n",
       "        9., 43., 16., 11., 30., 25., 58., 23., 44., 53., 21., 24.,  8.,\n",
       "       54.,  0., 14., 44.,  6., 25.,  4., 19., 51., 12., 24., 23., 59.,\n",
       "       55., 41., 47., 11., 13., 34., 55., 53.,  0.,  0., 40., 43., 46.,\n",
       "       13., 33., 53., 44., 54., 57., 42., 21., 28., 58., 35., 33.,  6.,\n",
       "        8., 31., 13., 50., 10.,  6., 28., 21., 16., 36., 39., 48., 10.,\n",
       "       47., 11., 49., 13., 10., 35., 18.,  0., 54.,  0.,  0., 29.,  9.,\n",
       "       18., 35.,  0., 51., 34., 16., 50., 51., 45.,  0., 12., 42., 37.,\n",
       "       27., 55., 16., 39.,  6., 10., 40., 20., 28.,  3., 38., 23., 58.,\n",
       "        7., 47., 13., 19., 37., 21., 10., 49., 54., 37., 39., 15.,  9.,\n",
       "       41., 48., 37., 43., 45., 12., 52., 33., 45., 33., 14., 13., 51.,\n",
       "       11., 28., 18., 14., 16., 34., 59., 53., 46., 24., 57., 22., 49.,\n",
       "       17., 46., 43., 55., 56., 35.,  8.])"
      ]
     },
     "execution_count": 11,
     "metadata": {},
     "output_type": "execute_result"
    }
   ],
   "source": [
    "y_test_np = np.asarray(test_Y)\n",
    "y_test_np"
   ]
  },
  {
   "cell_type": "code",
   "execution_count": 12,
   "metadata": {},
   "outputs": [
    {
     "name": "stdout",
     "output_type": "stream",
     "text": [
      "[54.  0. 12.  5. 32. 21. 10. 41. 43. 11. 21.  7.  4. 36. 54. 48. 43. 24.\n",
      " 21.  8. 24.  9.  0. 23. 14.  9. 58. 58. 30. 31.  8. 37. 34. 37. 59. 54.\n",
      "  5.  8. 12. 39. 32. 42. 44. 48. 23.  3. 13. 24. 51. 52. 52.  9. 51. 23.\n",
      " 17. 39. 25. 14. 31. 33. 56. 10. 24. 16. 41. 13. 50. 44. 18. 39. 32. 36.\n",
      " 32.  0. 24. 57. 19.  3. 30. 30. 33. 18. 14.  5. 40. 55. 12. 50. 16. 26.\n",
      "  0. 58. 38. 32. 40. 33. 39. 50.  9. 13.  0. 33. 19.  7. 36. 31. 45.  4.\n",
      " 56. 19.  9. 29. 38. 28. 21. 32. 25. 51.  9. 50. 29. 33. 14. 17. 14. 23.\n",
      " 59. 45. 55. 22. 52.  3.  0. 40.  4. 55. 42.  8. 48. 11. 13. 36. 34.  0.\n",
      " 27. 14. 43. 29. 29.  0. 28. 13. 40. 29.  0. 18. 43. 33. 43.  0. 26. 20.\n",
      " 18. 26. 52. 37. 19.  9. 16. 47. 32. 15.  9.  0. 54. 25.  0.  4. 29. 27.\n",
      " 54. 49. 51. 26. 20. 24. 38. 35. 16. 39. 42. 53. 16. 45. 51. 47. 13. 51.\n",
      "  9. 13.  0. 33. 16. 53. 28. 23. 36.  0. 55.  0. 15. 54. 16. 54. 12. 51.\n",
      " 30. 39. 25.  0. 32. 48. 33. 38. 41. 45. 52.  4. 21. 17.  9. 27. 40. 23.\n",
      " 45. 25. 45. 37.  5. 39. 47.  9.  8. 33. 12. 37. 23. 27. 17. 52. 37. 30.\n",
      " 11. 48. 38.  0. 21. 40. 43. 45. 52. 56. 59.  0. 24. 12.  3. 56.  0. 34.\n",
      " 54. 20.  0.  9. 32. 13.  4. 41. 37. 34. 54. 50. 26. 37. 55. 12. 17. 21.\n",
      " 17.  8. 34. 53. 14. 30. 31. 51.  9. 58. 23. 25.  4. 39. 40. 47. 49. 58.\n",
      " 50. 53.  0. 31. 40. 15. 41. 57.  3. 45. 23. 38.  7. 40. 14. 46. 31.  0.\n",
      "  0. 58.  5. 53. 52. 30. 52. 51. 51.  5.  0. 51. 29. 45. 36. 15. 24. 15.\n",
      " 42. 14. 52. 36. 35. 20. 26. 32. 28. 49.  8. 42. 10. 25. 33. 37. 26. 43.\n",
      " 39. 28. 38. 11.  9. 43. 16. 11. 30. 25. 58. 23. 44. 53. 21. 24.  8. 54.\n",
      "  0. 14. 44.  6. 25.  4. 19. 51. 12. 24. 23. 59. 55. 41. 47. 11. 13. 34.\n",
      " 55. 53.  0.  0. 40. 43. 46. 13. 33. 53. 44. 54. 57. 42. 21. 28. 58. 35.\n",
      " 33.  6.  8. 31. 13. 50. 10.  6. 28. 21. 16. 36. 39. 48. 10. 47. 11. 49.\n",
      " 13. 10. 35. 18.  0. 54.  0.  0. 29.  9. 18. 35.  0. 51. 34. 16. 50. 51.\n",
      " 45.  0. 12. 42. 37. 27. 55. 16. 39.  6. 10. 40. 20. 28.  3. 38. 23. 58.\n",
      "  7. 47. 13. 19. 37. 21. 10. 49. 54. 37. 39. 15.  9. 41. 48. 37. 43. 45.\n",
      " 12. 52. 33. 45. 33. 14. 13. 51. 11. 28. 18. 14. 16. 34. 59. 53. 46. 24.\n",
      " 57. 22. 49. 17. 46. 43. 55. 56. 35.  8.]\n"
     ]
    }
   ],
   "source": [
    "print(pred_Y)"
   ]
  },
  {
   "cell_type": "code",
   "execution_count": 13,
   "metadata": {},
   "outputs": [
    {
     "name": "stdout",
     "output_type": "stream",
     "text": [
      "99.0272373540856\n"
     ]
    }
   ],
   "source": [
    "## 进行模型的评价\n",
    "disc = y_test_np - pred_Y\n",
    "count = 0\n",
    "for i in disc:\n",
    "    if i == 0:\n",
    "        count += 1\n",
    "accuracy = ( (100 * count) / len(pred_Y))\n",
    "print(accuracy)"
   ]
  },
  {
   "cell_type": "code",
   "execution_count": 20,
   "metadata": {},
   "outputs": [
    {
     "name": "stdout",
     "output_type": "stream",
     "text": [
      "Found 509 correct labels\n"
     ]
    },
    {
     "data": {
      "image/png": "[encoded data removed]",
      "text/plain": [
       "<matplotlib.figure.Figure at 0x21ac488f0b8>"
      ]
     },
     "metadata": {},
     "output_type": "display_data"
    }
   ],
   "source": [
    "#图像识别情况的展示\n",
    "correct = np.where(pred_Y==test_Y)[0]\n",
    "print (\"Found %d correct labels\" % len(correct))\n",
    "#print (\"Found %d correct labels\" % len(correct))\n",
    "for i, correct in enumerate(correct[30:39]):\n",
    "    plt.subplot(3,3,i+1)\n",
    "    plt.imshow(test_X[correct].reshape(50,50), cmap='gray', interpolation='none')\n",
    "    plt.title(\"Predicted {}, Class {}\".format(pred_Y[correct], test_Y[correct]))\n",
    "    #plt.tight_layout()"
   ]
  },
  {
   "cell_type": "markdown",
   "metadata": {},
   "source": [
    "##### SVM、SVC、SVR三者的区别：\n",
    "https://zhuanlan.zhihu.com/p/37702043"
   ]
  }
 ],
 "metadata": {
  "kernelspec": {
   "display_name": "Python 3 (ipykernel)",
   "language": "python",
   "name": "python3"
  },
  "language_info": {
   "codemirror_mode": {
    "name": "ipython",
    "version": 3
   },
   "file_extension": ".py",
   "mimetype": "text/x-python",
   "name": "python",
   "nbconvert_exporter": "python",
   "pygments_lexer": "ipython3",
   "version": "3.9.6"
  },
  "varInspector": {
   "cols": {
    "lenName": 16,
    "lenType": 16,
    "lenVar": 40
   },
   "kernels_config": {
    "python": {
     "delete_cmd_postfix": "",
     "delete_cmd_prefix": "del ",
     "library": "var_list.py",
     "varRefreshCmd": "print(var_dic_list())"
    },
    "r": {
     "delete_cmd_postfix": ") ",
     "delete_cmd_prefix": "rm(",
     "library": "var_list.r",
     "varRefreshCmd": "cat(var_dic_list()) "
    }
   },
   "types_to_exclude": [
    "module",
    "function",
    "builtin_function_or_method",
    "instance",
    "_Feature"
   ],
   "window_display": false
  }
 },
 "nbformat": 4,
 "nbformat_minor": 2
}
