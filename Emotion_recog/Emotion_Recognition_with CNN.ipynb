{
 "cells": [
  {
   "cell_type": "code",
   "execution_count": 1,
   "metadata": {},
   "outputs": [],
   "source": [
    "import glob\n",
    "import cv2 \n",
    "import math\n",
    "\n",
    "from scipy.linalg import svd\n",
    "from numpy import linalg as LA\n",
    "\n",
    "import pandas as pd\n",
    "import numpy as np\n",
    "import matplotlib.pyplot as plt\n",
    "\n",
    "from sklearn.model_selection import train_test_split\n",
    "from keras.utils import to_categorical"
   ]
  },
  {
   "cell_type": "code",
   "execution_count": 2,
   "metadata": {},
   "outputs": [],
   "source": [
    "%matplotlib inline"
   ]
  },
  {
   "cell_type": "code",
   "execution_count": 8,
   "metadata": {},
   "outputs": [],
   "source": [
    "# path = glob.glob(\"E:/Program Files/Detected/*.png\")\n",
    "path = glob.glob(\"E:/face_dectection/emotion/*/*.jpg\") "
   ]
  },
  {
   "cell_type": "code",
   "execution_count": 9,
   "metadata": {},
   "outputs": [
    {
     "name": "stdout",
     "output_type": "stream",
     "text": [
      "2016\n"
     ]
    }
   ],
   "source": [
    "print(len(path))"
   ]
  },
  {
   "cell_type": "code",
   "execution_count": 12,
   "metadata": {
    "collapsed": true
   },
   "outputs": [
    {
     "name": "stdout",
     "output_type": "stream",
     "text": [
      "E:/face_dectection/emotion\\anger\\recgonize_anger268.jpgis not done!\n",
      "E:/face_dectection/emotion\\anger\\recgonize_anger302.jpgis not done!\n",
      "E:/face_dectection/emotion\\anger\\recgonize_anger322.jpgis not done!\n",
      "E:/face_dectection/emotion\\anger\\recgonize_anger358.jpgis not done!\n",
      "E:/face_dectection/emotion\\anger\\recgonize_anger374.jpgis not done!\n",
      "E:/face_dectection/emotion\\anger\\recgonize_anger392.jpgis not done!\n",
      "E:/face_dectection/emotion\\anger\\recgonize_anger7.jpgis not done!\n",
      "E:/face_dectection/emotion\\fear\\recgonize_fear104.jpgis not done!\n",
      "E:/face_dectection/emotion\\fear\\recgonize_fear105.jpgis not done!\n",
      "E:/face_dectection/emotion\\fear\\recgonize_fear11.jpgis not done!\n",
      "E:/face_dectection/emotion\\fear\\recgonize_fear120.jpgis not done!\n",
      "E:/face_dectection/emotion\\fear\\recgonize_fear13.jpgis not done!\n",
      "E:/face_dectection/emotion\\fear\\recgonize_fear140.jpgis not done!\n",
      "E:/face_dectection/emotion\\fear\\recgonize_fear141.jpgis not done!\n",
      "E:/face_dectection/emotion\\fear\\recgonize_fear156.jpgis not done!\n",
      "E:/face_dectection/emotion\\fear\\recgonize_fear157.jpgis not done!\n",
      "E:/face_dectection/emotion\\fear\\recgonize_fear162.jpgis not done!\n",
      "E:/face_dectection/emotion\\fear\\recgonize_fear168.jpgis not done!\n",
      "E:/face_dectection/emotion\\fear\\recgonize_fear174.jpgis not done!\n",
      "E:/face_dectection/emotion\\fear\\recgonize_fear175.jpgis not done!\n",
      "E:/face_dectection/emotion\\fear\\recgonize_fear190.jpgis not done!\n",
      "E:/face_dectection/emotion\\fear\\recgonize_fear191.jpgis not done!\n",
      "E:/face_dectection/emotion\\fear\\recgonize_fear196.jpgis not done!\n",
      "E:/face_dectection/emotion\\fear\\recgonize_fear21.jpgis not done!\n",
      "E:/face_dectection/emotion\\fear\\recgonize_fear22.jpgis not done!\n",
      "E:/face_dectection/emotion\\fear\\recgonize_fear230.jpgis not done!\n",
      "E:/face_dectection/emotion\\fear\\recgonize_fear257.jpgis not done!\n",
      "E:/face_dectection/emotion\\fear\\recgonize_fear269.jpgis not done!\n",
      "E:/face_dectection/emotion\\fear\\recgonize_fear274.jpgis not done!\n",
      "E:/face_dectection/emotion\\fear\\recgonize_fear276.jpgis not done!\n",
      "E:/face_dectection/emotion\\fear\\recgonize_fear280.jpgis not done!\n",
      "E:/face_dectection/emotion\\fear\\recgonize_fear281.jpgis not done!\n",
      "E:/face_dectection/emotion\\fear\\recgonize_fear295.jpgis not done!\n",
      "E:/face_dectection/emotion\\fear\\recgonize_fear307.jpgis not done!\n",
      "E:/face_dectection/emotion\\fear\\recgonize_fear311.jpgis not done!\n",
      "E:/face_dectection/emotion\\fear\\recgonize_fear313.jpgis not done!\n",
      "E:/face_dectection/emotion\\fear\\recgonize_fear342.jpgis not done!\n",
      "E:/face_dectection/emotion\\fear\\recgonize_fear346.jpgis not done!\n",
      "E:/face_dectection/emotion\\fear\\recgonize_fear348.jpgis not done!\n",
      "E:/face_dectection/emotion\\fear\\recgonize_fear360.jpgis not done!\n",
      "E:/face_dectection/emotion\\fear\\recgonize_fear387.jpgis not done!\n",
      "E:/face_dectection/emotion\\fear\\recgonize_fear388.jpgis not done!\n",
      "E:/face_dectection/emotion\\fear\\recgonize_fear4.jpgis not done!\n",
      "E:/face_dectection/emotion\\fear\\recgonize_fear40.jpgis not done!\n",
      "E:/face_dectection/emotion\\fear\\recgonize_fear47.jpgis not done!\n",
      "E:/face_dectection/emotion\\fear\\recgonize_fear59.jpgis not done!\n",
      "E:/face_dectection/emotion\\fear\\recgonize_fear77.jpgis not done!\n",
      "E:/face_dectection/emotion\\fear\\recgonize_fear80.jpgis not done!\n",
      "E:/face_dectection/emotion\\fear\\recgonize_fear84.jpgis not done!\n",
      "E:/face_dectection/emotion\\fear\\recgonize_fear9.jpgis not done!\n",
      "E:/face_dectection/emotion\\happy\\recgonize_happy105.jpgis not done!\n",
      "E:/face_dectection/emotion\\happy\\recgonize_happy109.jpgis not done!\n",
      "E:/face_dectection/emotion\\happy\\recgonize_happy125.jpgis not done!\n",
      "E:/face_dectection/emotion\\happy\\recgonize_happy139.jpgis not done!\n",
      "E:/face_dectection/emotion\\happy\\recgonize_happy145.jpgis not done!\n",
      "E:/face_dectection/emotion\\happy\\recgonize_happy149.jpgis not done!\n",
      "E:/face_dectection/emotion\\happy\\recgonize_happy170.jpgis not done!\n",
      "E:/face_dectection/emotion\\happy\\recgonize_happy178.jpgis not done!\n",
      "E:/face_dectection/emotion\\happy\\recgonize_happy179.jpgis not done!\n",
      "E:/face_dectection/emotion\\happy\\recgonize_happy184.jpgis not done!\n",
      "E:/face_dectection/emotion\\happy\\recgonize_happy188.jpgis not done!\n",
      "E:/face_dectection/emotion\\happy\\recgonize_happy209.jpgis not done!\n",
      "E:/face_dectection/emotion\\happy\\recgonize_happy219.jpgis not done!\n",
      "E:/face_dectection/emotion\\happy\\recgonize_happy224.jpgis not done!\n",
      "E:/face_dectection/emotion\\happy\\recgonize_happy227.jpgis not done!\n",
      "E:/face_dectection/emotion\\happy\\recgonize_happy231.jpgis not done!\n",
      "E:/face_dectection/emotion\\happy\\recgonize_happy24.jpgis not done!\n",
      "E:/face_dectection/emotion\\happy\\recgonize_happy248.jpgis not done!\n",
      "E:/face_dectection/emotion\\happy\\recgonize_happy249.jpgis not done!\n",
      "E:/face_dectection/emotion\\happy\\recgonize_happy258.jpgis not done!\n",
      "E:/face_dectection/emotion\\happy\\recgonize_happy263.jpgis not done!\n",
      "E:/face_dectection/emotion\\happy\\recgonize_happy266.jpgis not done!\n",
      "E:/face_dectection/emotion\\happy\\recgonize_happy271.jpgis not done!\n",
      "E:/face_dectection/emotion\\happy\\recgonize_happy276.jpgis not done!\n",
      "E:/face_dectection/emotion\\happy\\recgonize_happy288.jpgis not done!\n",
      "E:/face_dectection/emotion\\happy\\recgonize_happy289.jpgis not done!\n",
      "E:/face_dectection/emotion\\happy\\recgonize_happy300.jpgis not done!\n",
      "E:/face_dectection/emotion\\happy\\recgonize_happy303.jpgis not done!\n",
      "E:/face_dectection/emotion\\happy\\recgonize_happy308.jpgis not done!\n",
      "E:/face_dectection/emotion\\happy\\recgonize_happy313.jpgis not done!\n",
      "E:/face_dectection/emotion\\happy\\recgonize_happy325.jpgis not done!\n",
      "E:/face_dectection/emotion\\happy\\recgonize_happy326.jpgis not done!\n",
      "E:/face_dectection/emotion\\happy\\recgonize_happy332.jpgis not done!\n",
      "E:/face_dectection/emotion\\happy\\recgonize_happy338.jpgis not done!\n",
      "E:/face_dectection/emotion\\happy\\recgonize_happy355.jpgis not done!\n",
      "E:/face_dectection/emotion\\happy\\recgonize_happy357.jpgis not done!\n",
      "E:/face_dectection/emotion\\happy\\recgonize_happy369.jpgis not done!\n",
      "E:/face_dectection/emotion\\happy\\recgonize_happy370.jpgis not done!\n",
      "E:/face_dectection/emotion\\happy\\recgonize_happy375.jpgis not done!\n",
      "E:/face_dectection/emotion\\happy\\recgonize_happy377.jpgis not done!\n",
      "E:/face_dectection/emotion\\happy\\recgonize_happy382.jpgis not done!\n",
      "E:/face_dectection/emotion\\happy\\recgonize_happy39.jpgis not done!\n",
      "E:/face_dectection/emotion\\happy\\recgonize_happy412.jpgis not done!\n",
      "E:/face_dectection/emotion\\happy\\recgonize_happy47.jpgis not done!\n",
      "E:/face_dectection/emotion\\happy\\recgonize_happy62.jpgis not done!\n",
      "E:/face_dectection/emotion\\happy\\recgonize_happy77.jpgis not done!\n",
      "E:/face_dectection/emotion\\happy\\recgonize_happy85.jpgis not done!\n",
      "E:/face_dectection/emotion\\happy\\recgonize_happy99.jpgis not done!\n",
      "E:/face_dectection/emotion\\sad\\recgonize_sad100.jpgis not done!\n",
      "E:/face_dectection/emotion\\sad\\recgonize_sad102.jpgis not done!\n",
      "E:/face_dectection/emotion\\sad\\recgonize_sad112.jpgis not done!\n",
      "E:/face_dectection/emotion\\sad\\recgonize_sad12.jpgis not done!\n",
      "E:/face_dectection/emotion\\sad\\recgonize_sad128.jpgis not done!\n",
      "E:/face_dectection/emotion\\sad\\recgonize_sad136.jpgis not done!\n",
      "E:/face_dectection/emotion\\sad\\recgonize_sad138.jpgis not done!\n",
      "E:/face_dectection/emotion\\sad\\recgonize_sad148.jpgis not done!\n",
      "E:/face_dectection/emotion\\sad\\recgonize_sad150.jpgis not done!\n",
      "E:/face_dectection/emotion\\sad\\recgonize_sad171.jpgis not done!\n",
      "E:/face_dectection/emotion\\sad\\recgonize_sad173.jpgis not done!\n",
      "E:/face_dectection/emotion\\sad\\recgonize_sad176.jpgis not done!\n",
      "E:/face_dectection/emotion\\sad\\recgonize_sad186.jpgis not done!\n",
      "E:/face_dectection/emotion\\sad\\recgonize_sad20.jpgis not done!\n",
      "E:/face_dectection/emotion\\sad\\recgonize_sad232.jpgis not done!\n",
      "E:/face_dectection/emotion\\sad\\recgonize_sad265.jpgis not done!\n",
      "E:/face_dectection/emotion\\sad\\recgonize_sad269.jpgis not done!\n",
      "E:/face_dectection/emotion\\sad\\recgonize_sad270.jpgis not done!\n",
      "E:/face_dectection/emotion\\sad\\recgonize_sad275.jpgis not done!\n",
      "E:/face_dectection/emotion\\sad\\recgonize_sad284.jpgis not done!\n",
      "E:/face_dectection/emotion\\sad\\recgonize_sad309.jpgis not done!\n",
      "E:/face_dectection/emotion\\sad\\recgonize_sad310.jpgis not done!\n",
      "E:/face_dectection/emotion\\sad\\recgonize_sad316.jpgis not done!\n",
      "E:/face_dectection/emotion\\sad\\recgonize_sad32.jpgis not done!\n",
      "E:/face_dectection/emotion\\sad\\recgonize_sad325.jpgis not done!\n",
      "E:/face_dectection/emotion\\sad\\recgonize_sad329.jpgis not done!\n",
      "E:/face_dectection/emotion\\sad\\recgonize_sad330.jpgis not done!\n"
     ]
    },
    {
     "name": "stdout",
     "output_type": "stream",
     "text": [
      "E:/face_dectection/emotion\\sad\\recgonize_sad35.jpgis not done!\n",
      "E:/face_dectection/emotion\\sad\\recgonize_sad352.jpgis not done!\n",
      "E:/face_dectection/emotion\\sad\\recgonize_sad361.jpgis not done!\n",
      "E:/face_dectection/emotion\\sad\\recgonize_sad365.jpgis not done!\n",
      "E:/face_dectection/emotion\\sad\\recgonize_sad366.jpgis not done!\n",
      "E:/face_dectection/emotion\\sad\\recgonize_sad38.jpgis not done!\n",
      "E:/face_dectection/emotion\\sad\\recgonize_sad381.jpgis not done!\n",
      "E:/face_dectection/emotion\\sad\\recgonize_sad397.jpgis not done!\n",
      "E:/face_dectection/emotion\\sad\\recgonize_sad40.jpgis not done!\n",
      "E:/face_dectection/emotion\\sad\\recgonize_sad400.jpgis not done!\n",
      "E:/face_dectection/emotion\\sad\\recgonize_sad401.jpgis not done!\n",
      "E:/face_dectection/emotion\\sad\\recgonize_sad56.jpgis not done!\n",
      "E:/face_dectection/emotion\\sad\\recgonize_sad6.jpgis not done!\n",
      "E:/face_dectection/emotion\\sad\\recgonize_sad60.jpgis not done!\n",
      "E:/face_dectection/emotion\\sad\\recgonize_sad72.jpgis not done!\n",
      "E:/face_dectection/emotion\\sad\\recgonize_sad74.jpgis not done!\n",
      "E:/face_dectection/emotion\\sad\\recgonize_sad77.jpgis not done!\n",
      "E:/face_dectection/emotion\\sad\\recgonize_sad79.jpgis not done!\n",
      "E:/face_dectection/emotion\\sad\\recgonize_sad81.jpgis not done!\n",
      "E:/face_dectection/emotion\\surprise\\recgonize_surprise12.jpgis not done!\n",
      "E:/face_dectection/emotion\\surprise\\recgonize_surprise172.jpgis not done!\n",
      "E:/face_dectection/emotion\\surprise\\recgonize_surprise20.jpgis not done!\n",
      "E:/face_dectection/emotion\\surprise\\recgonize_surprise218.jpgis not done!\n",
      "E:/face_dectection/emotion\\surprise\\recgonize_surprise219.jpgis not done!\n",
      "E:/face_dectection/emotion\\surprise\\recgonize_surprise260.jpgis not done!\n",
      "E:/face_dectection/emotion\\surprise\\recgonize_surprise261.jpgis not done!\n",
      "E:/face_dectection/emotion\\surprise\\recgonize_surprise275.jpgis not done!\n",
      "E:/face_dectection/emotion\\surprise\\recgonize_surprise278.jpgis not done!\n",
      "E:/face_dectection/emotion\\surprise\\recgonize_surprise299.jpgis not done!\n",
      "E:/face_dectection/emotion\\surprise\\recgonize_surprise300.jpgis not done!\n",
      "E:/face_dectection/emotion\\surprise\\recgonize_surprise314.jpgis not done!\n",
      "E:/face_dectection/emotion\\surprise\\recgonize_surprise318.jpgis not done!\n",
      "E:/face_dectection/emotion\\surprise\\recgonize_surprise332.jpgis not done!\n",
      "E:/face_dectection/emotion\\surprise\\recgonize_surprise34.jpgis not done!\n",
      "E:/face_dectection/emotion\\surprise\\recgonize_surprise341.jpgis not done!\n",
      "E:/face_dectection/emotion\\surprise\\recgonize_surprise348.jpgis not done!\n",
      "E:/face_dectection/emotion\\surprise\\recgonize_surprise354.jpgis not done!\n",
      "E:/face_dectection/emotion\\surprise\\recgonize_surprise368.jpgis not done!\n",
      "E:/face_dectection/emotion\\surprise\\recgonize_surprise377.jpgis not done!\n",
      "E:/face_dectection/emotion\\surprise\\recgonize_surprise384.jpgis not done!\n",
      "E:/face_dectection/emotion\\surprise\\recgonize_surprise407.jpgis not done!\n",
      "E:/face_dectection/emotion\\surprise\\recgonize_surprise59.jpgis not done!\n",
      "E:/face_dectection/emotion\\surprise\\recgonize_surprise72.jpgis not done!\n",
      "E:/face_dectection/emotion\\surprise\\recgonize_surprise80.jpgis not done!\n",
      "1847\n"
     ]
    }
   ],
   "source": [
    "X=[]\n",
    "for img in path:\n",
    "    try:\n",
    "        n = cv2.imread(img)\n",
    "        gray = cv2.cvtColor(n,cv2.COLOR_BGR2GRAY)\n",
    "        gray = cv2.resize(gray,(50,50))\n",
    "    except:\n",
    "        print(img+\"is not done!\")\n",
    "        continue\n",
    "    X.append(gray)\n",
    "print(len(X))"
   ]
  },
  {
   "cell_type": "code",
   "execution_count": 13,
   "metadata": {},
   "outputs": [
    {
     "name": "stdout",
     "output_type": "stream",
     "text": [
      "1847\n"
     ]
    }
   ],
   "source": [
    "# Convert List dataset into array\n",
    "print(len(X))\n",
    "X= np.array(X)"
   ]
  },
  {
   "cell_type": "code",
   "execution_count": 7,
   "metadata": {},
   "outputs": [],
   "source": [
    "#data = pd.read_csv('F:/Program Files/Annotations/Train_Expression.txt', sep=\" \", header=None)\n",
    "#data.columns = [\"filename\", \"expression\"]"
   ]
  },
  {
   "cell_type": "code",
   "execution_count": 15,
   "metadata": {},
   "outputs": [
    {
     "name": "stdout",
     "output_type": "stream",
     "text": [
      "None\n"
     ]
    }
   ],
   "source": [
    "n = cv2.imread(\"E:/face_dectection/emotion/surprise/recgonize_surprise299.jpg\")\n",
    "print(n)"
   ]
  },
  {
   "cell_type": "code",
   "execution_count": 17,
   "metadata": {},
   "outputs": [],
   "source": [
    "Y = np.zeros((len(X)))\n",
    "i = 0\n",
    "for img in path:\n",
    "    if cv2.imread(img) is None:\n",
    "        continue\n",
    "    elif \"happy\" in img: \n",
    "        #print(row[\"filename\"])\n",
    "        Y[i]  = 0\n",
    "    elif \"anger\" in img:\n",
    "        Y[i]  = 1 \n",
    "    elif \"fear\" in img:\n",
    "        Y[i]  = 2 \n",
    "    elif \"sad\" in img:\n",
    "        Y[i]=3 \n",
    "    elif \"surprise\" in img:\n",
    "        Y[i] = 4 \n",
    "    i = i+1"
   ]
  },
  {
   "cell_type": "code",
   "execution_count": 18,
   "metadata": {
    "scrolled": true
   },
   "outputs": [
    {
     "name": "stdout",
     "output_type": "stream",
     "text": [
      "1847\n"
     ]
    },
    {
     "data": {
      "text/plain": [
       "array([1., 1., 1., ..., 4., 4., 4.])"
      ]
     },
     "execution_count": 18,
     "metadata": {},
     "output_type": "execute_result"
    }
   ],
   "source": [
    "print(len(Y))\n",
    "Y"
   ]
  },
  {
   "cell_type": "code",
   "execution_count": 19,
   "metadata": {
    "scrolled": true
   },
   "outputs": [],
   "source": [
    "Y_one_hot = to_categorical(Y)"
   ]
  },
  {
   "cell_type": "code",
   "execution_count": 20,
   "metadata": {},
   "outputs": [
    {
     "data": {
      "text/plain": [
       "(array([[0., 1., 0., 0., 0.],\n",
       "        [0., 1., 0., 0., 0.],\n",
       "        [0., 1., 0., 0., 0.],\n",
       "        ...,\n",
       "        [0., 0., 0., 0., 1.],\n",
       "        [0., 0., 0., 0., 1.],\n",
       "        [0., 0., 0., 0., 1.]], dtype=float32),\n",
       " array([1., 1., 1., ..., 4., 4., 4.]))"
      ]
     },
     "execution_count": 20,
     "metadata": {},
     "output_type": "execute_result"
    }
   ],
   "source": [
    "Y_one_hot,Y"
   ]
  },
  {
   "cell_type": "code",
   "execution_count": 21,
   "metadata": {},
   "outputs": [],
   "source": [
    "X = X.astype('float32')\n",
    "X = X / 255\n",
    "\n",
    "X = X.reshape(-1,50,50, 1)"
   ]
  },
  {
   "cell_type": "code",
   "execution_count": 22,
   "metadata": {
    "scrolled": false
   },
   "outputs": [
    {
     "data": {
      "text/plain": [
       "((1662, 50, 50, 1), (185, 50, 50, 1), (1662, 5), (185, 5))"
      ]
     },
     "execution_count": 22,
     "metadata": {},
     "output_type": "execute_result"
    }
   ],
   "source": [
    "from sklearn.model_selection import train_test_split\n",
    "train_X,test_X,train_Y,test_Y = train_test_split(X, Y_one_hot, test_size=0.1, random_state=13)\n",
    "train_X.shape,test_X.shape,train_Y.shape,test_Y.shape"
   ]
  },
  {
   "cell_type": "code",
   "execution_count": 23,
   "metadata": {},
   "outputs": [
    {
     "data": {
      "text/plain": [
       "((1329, 50, 50, 1), (333, 50, 50, 1), (1329, 5), (333, 5))"
      ]
     },
     "execution_count": 23,
     "metadata": {},
     "output_type": "execute_result"
    }
   ],
   "source": [
    "train_X,valid_X,train_Y,valid_Y = train_test_split(train_X, train_Y, test_size=0.2, random_state=13)\n",
    "train_X.shape,valid_X.shape,train_Y.shape,valid_Y.shape"
   ]
  },
  {
   "cell_type": "code",
   "execution_count": 27,
   "metadata": {},
   "outputs": [],
   "source": [
    "import keras\n",
    "from keras.models import Sequential,Model\n",
    "from keras.layers import Dense, Dropout, Flatten\n",
    "from keras.layers import Conv2D, MaxPooling2D\n",
    "from keras.layers import BatchNormalization\n",
    "from keras.layers import LeakyReLU"
   ]
  },
  {
   "cell_type": "code",
   "execution_count": 33,
   "metadata": {},
   "outputs": [],
   "source": [
    "batch_size = 128\n",
    "epochs = 30\n",
    "num_classes = 5"
   ]
  },
  {
   "cell_type": "code",
   "execution_count": 34,
   "metadata": {},
   "outputs": [],
   "source": [
    "model = Sequential()\n",
    "model.add(Conv2D(32, kernel_size=(3, 3),activation='linear',padding='valid',input_shape=(50,50,1)))\n",
    "model.add(LeakyReLU(alpha=0.1))\n",
    "model.add(MaxPooling2D((2, 2),padding='valid'))\n",
    "model.add(Dropout(0.25))\n",
    "model.add(Conv2D(64, (3, 3), activation='linear',padding='valid'))\n",
    "model.add(LeakyReLU(alpha=0.1))\n",
    "model.add(MaxPooling2D(pool_size=(2, 2),padding='valid'))\n",
    "model.add(Dropout(0.25))\n",
    "model.add(Conv2D(128, (3, 3), activation='linear',padding='valid'))\n",
    "model.add(LeakyReLU(alpha=0.1))                  \n",
    "model.add(MaxPooling2D(pool_size=(2, 2),padding='valid'))\n",
    "model.add(Dropout(0.4))\n",
    "model.add(Flatten())\n",
    "model.add(Dense(128, activation='linear'))\n",
    "model.add(LeakyReLU(alpha=0.1))           \n",
    "model.add(Dropout(0.3))\n",
    "model.add(Dense(64, activation='linear'))\n",
    "model.add(LeakyReLU(alpha=0.1))           \n",
    "model.add(Dropout(0.3))\n",
    "model.add(Dense(num_classes, activation='softmax'))\n"
   ]
  },
  {
   "cell_type": "code",
   "execution_count": 36,
   "metadata": {},
   "outputs": [],
   "source": [
    "#compile the model\n",
    "model.compile(optimizer='adam', loss='categorical_crossentropy', metrics=['accuracy'])"
   ]
  },
  {
   "cell_type": "code",
   "execution_count": 37,
   "metadata": {},
   "outputs": [
    {
     "name": "stdout",
     "output_type": "stream",
     "text": [
      "Model: \"sequential_1\"\n",
      "_________________________________________________________________\n",
      " Layer (type)                Output Shape              Param #   \n",
      "=================================================================\n",
      " conv2d_3 (Conv2D)           (None, 48, 48, 32)        320       \n",
      "                                                                 \n",
      " leaky_re_lu_5 (LeakyReLU)   (None, 48, 48, 32)        0         \n",
      "                                                                 \n",
      " max_pooling2d_3 (MaxPooling  (None, 24, 24, 32)       0         \n",
      " 2D)                                                             \n",
      "                                                                 \n",
      " dropout_5 (Dropout)         (None, 24, 24, 32)        0         \n",
      "                                                                 \n",
      " conv2d_4 (Conv2D)           (None, 22, 22, 64)        18496     \n",
      "                                                                 \n",
      " leaky_re_lu_6 (LeakyReLU)   (None, 22, 22, 64)        0         \n",
      "                                                                 \n",
      " max_pooling2d_4 (MaxPooling  (None, 11, 11, 64)       0         \n",
      " 2D)                                                             \n",
      "                                                                 \n",
      " dropout_6 (Dropout)         (None, 11, 11, 64)        0         \n",
      "                                                                 \n",
      " conv2d_5 (Conv2D)           (None, 9, 9, 128)         73856     \n",
      "                                                                 \n",
      " leaky_re_lu_7 (LeakyReLU)   (None, 9, 9, 128)         0         \n",
      "                                                                 \n",
      " max_pooling2d_5 (MaxPooling  (None, 4, 4, 128)        0         \n",
      " 2D)                                                             \n",
      "                                                                 \n",
      " dropout_7 (Dropout)         (None, 4, 4, 128)         0         \n",
      "                                                                 \n",
      " flatten_1 (Flatten)         (None, 2048)              0         \n",
      "                                                                 \n",
      " dense_3 (Dense)             (None, 128)               262272    \n",
      "                                                                 \n",
      " leaky_re_lu_8 (LeakyReLU)   (None, 128)               0         \n",
      "                                                                 \n",
      " dropout_8 (Dropout)         (None, 128)               0         \n",
      "                                                                 \n",
      " dense_4 (Dense)             (None, 64)                8256      \n",
      "                                                                 \n",
      " leaky_re_lu_9 (LeakyReLU)   (None, 64)                0         \n",
      "                                                                 \n",
      " dropout_9 (Dropout)         (None, 64)                0         \n",
      "                                                                 \n",
      " dense_5 (Dense)             (None, 5)                 325       \n",
      "                                                                 \n",
      "=================================================================\n",
      "Total params: 363,525\n",
      "Trainable params: 363,525\n",
      "Non-trainable params: 0\n",
      "_________________________________________________________________\n"
     ]
    }
   ],
   "source": [
    "model.summary()"
   ]
  },
  {
   "cell_type": "code",
   "execution_count": 38,
   "metadata": {
    "scrolled": true
   },
   "outputs": [
    {
     "name": "stdout",
     "output_type": "stream",
     "text": [
      "Epoch 1/30\n",
      "11/11 [==============================] - 3s 162ms/step - loss: 1.6209 - accuracy: 0.2047 - val_loss: 1.6109 - val_accuracy: 0.1952\n",
      "Epoch 2/30\n",
      "11/11 [==============================] - 2s 150ms/step - loss: 1.6119 - accuracy: 0.2205 - val_loss: 1.6090 - val_accuracy: 0.1982\n",
      "Epoch 3/30\n",
      "11/11 [==============================] - 2s 147ms/step - loss: 1.6080 - accuracy: 0.2054 - val_loss: 1.6089 - val_accuracy: 0.2102\n",
      "Epoch 4/30\n",
      "11/11 [==============================] - 2s 149ms/step - loss: 1.6045 - accuracy: 0.2114 - val_loss: 1.6074 - val_accuracy: 0.2312\n",
      "Epoch 5/30\n",
      "11/11 [==============================] - 2s 148ms/step - loss: 1.6033 - accuracy: 0.2144 - val_loss: 1.6046 - val_accuracy: 0.2913\n",
      "Epoch 6/30\n",
      "11/11 [==============================] - 2s 148ms/step - loss: 1.5969 - accuracy: 0.2355 - val_loss: 1.5886 - val_accuracy: 0.2733\n",
      "Epoch 7/30\n",
      "11/11 [==============================] - 2s 152ms/step - loss: 1.5875 - accuracy: 0.2400 - val_loss: 1.5780 - val_accuracy: 0.2432\n",
      "Epoch 8/30\n",
      "11/11 [==============================] - 2s 146ms/step - loss: 1.5826 - accuracy: 0.2543 - val_loss: 1.5757 - val_accuracy: 0.2282\n",
      "Epoch 9/30\n",
      "11/11 [==============================] - 2s 148ms/step - loss: 1.5724 - accuracy: 0.2739 - val_loss: 1.5589 - val_accuracy: 0.2883\n",
      "Epoch 10/30\n",
      "11/11 [==============================] - 2s 147ms/step - loss: 1.5634 - accuracy: 0.2807 - val_loss: 1.5551 - val_accuracy: 0.2823\n",
      "Epoch 11/30\n",
      "11/11 [==============================] - 2s 148ms/step - loss: 1.5681 - accuracy: 0.2769 - val_loss: 1.5446 - val_accuracy: 0.2733\n",
      "Epoch 12/30\n",
      "11/11 [==============================] - 2s 149ms/step - loss: 1.5519 - accuracy: 0.3032 - val_loss: 1.5399 - val_accuracy: 0.3213\n",
      "Epoch 13/30\n",
      "11/11 [==============================] - 2s 149ms/step - loss: 1.5310 - accuracy: 0.3100 - val_loss: 1.5316 - val_accuracy: 0.3303\n",
      "Epoch 14/30\n",
      "11/11 [==============================] - 2s 150ms/step - loss: 1.5260 - accuracy: 0.3220 - val_loss: 1.5246 - val_accuracy: 0.3003\n",
      "Epoch 15/30\n",
      "11/11 [==============================] - 2s 148ms/step - loss: 1.4939 - accuracy: 0.3499 - val_loss: 1.5170 - val_accuracy: 0.3093\n",
      "Epoch 16/30\n",
      "11/11 [==============================] - 2s 151ms/step - loss: 1.4771 - accuracy: 0.3521 - val_loss: 1.5252 - val_accuracy: 0.2913\n",
      "Epoch 17/30\n",
      "11/11 [==============================] - 2s 147ms/step - loss: 1.4550 - accuracy: 0.3740 - val_loss: 1.4954 - val_accuracy: 0.3243\n",
      "Epoch 18/30\n",
      "11/11 [==============================] - 2s 149ms/step - loss: 1.4371 - accuracy: 0.3604 - val_loss: 1.5053 - val_accuracy: 0.3423\n",
      "Epoch 19/30\n",
      "11/11 [==============================] - 2s 150ms/step - loss: 1.4288 - accuracy: 0.3837 - val_loss: 1.4736 - val_accuracy: 0.3393\n",
      "Epoch 20/30\n",
      "11/11 [==============================] - 2s 157ms/step - loss: 1.3958 - accuracy: 0.3995 - val_loss: 1.4477 - val_accuracy: 0.3784\n",
      "Epoch 21/30\n",
      "11/11 [==============================] - 2s 175ms/step - loss: 1.3666 - accuracy: 0.4153 - val_loss: 1.4157 - val_accuracy: 0.3814\n",
      "Epoch 22/30\n",
      "11/11 [==============================] - 2s 174ms/step - loss: 1.3386 - accuracy: 0.4394 - val_loss: 1.3946 - val_accuracy: 0.3934\n",
      "Epoch 23/30\n",
      "11/11 [==============================] - 2s 172ms/step - loss: 1.3151 - accuracy: 0.4522 - val_loss: 1.3801 - val_accuracy: 0.3874\n",
      "Epoch 24/30\n",
      "11/11 [==============================] - 2s 170ms/step - loss: 1.2745 - accuracy: 0.4778 - val_loss: 1.3360 - val_accuracy: 0.4685\n",
      "Epoch 25/30\n",
      "11/11 [==============================] - 2s 169ms/step - loss: 1.2209 - accuracy: 0.5026 - val_loss: 1.2990 - val_accuracy: 0.4805\n",
      "Epoch 26/30\n",
      "11/11 [==============================] - 2s 170ms/step - loss: 1.2116 - accuracy: 0.5026 - val_loss: 1.2711 - val_accuracy: 0.4955\n",
      "Epoch 27/30\n",
      "11/11 [==============================] - 2s 174ms/step - loss: 1.1737 - accuracy: 0.5184 - val_loss: 1.2530 - val_accuracy: 0.4835\n",
      "Epoch 28/30\n",
      "11/11 [==============================] - 2s 171ms/step - loss: 1.1321 - accuracy: 0.5403 - val_loss: 1.2209 - val_accuracy: 0.5195\n",
      "Epoch 29/30\n",
      "11/11 [==============================] - 2s 168ms/step - loss: 1.1051 - accuracy: 0.5523 - val_loss: 1.2064 - val_accuracy: 0.5315\n",
      "Epoch 30/30\n",
      "11/11 [==============================] - 2s 168ms/step - loss: 1.0234 - accuracy: 0.5914 - val_loss: 1.1493 - val_accuracy: 0.5556\n"
     ]
    }
   ],
   "source": [
    "model_train = model.fit(train_X, train_Y, batch_size=batch_size,epochs=epochs,verbose=1,validation_data=(valid_X, valid_Y))"
   ]
  },
  {
   "cell_type": "code",
   "execution_count": 39,
   "metadata": {},
   "outputs": [],
   "source": [
    "model.save(\"CNN_model.h5\")"
   ]
  },
  {
   "cell_type": "code",
   "execution_count": 40,
   "metadata": {},
   "outputs": [
    {
     "name": "stdout",
     "output_type": "stream",
     "text": [
      "6/6 [==============================] - 0s 15ms/step - loss: 1.3517 - accuracy: 0.4649\n"
     ]
    }
   ],
   "source": [
    "test_eval = model.evaluate(test_X, test_Y, verbose=1)"
   ]
  },
  {
   "cell_type": "code",
   "execution_count": 41,
   "metadata": {},
   "outputs": [
    {
     "name": "stdout",
     "output_type": "stream",
     "text": [
      "Test loss: 1.3517487049102783\n",
      "Test accuracy: 0.4648648500442505\n"
     ]
    }
   ],
   "source": [
    "print('Test loss:', test_eval[0])\n",
    "print('Test accuracy:', test_eval[1])"
   ]
  },
  {
   "cell_type": "code",
   "execution_count": 43,
   "metadata": {},
   "outputs": [
    {
     "data": {
      "image/png": "[encoded data removed]",
      "text/plain": [
       "<Figure size 432x288 with 1 Axes>"
      ]
     },
     "metadata": {
      "needs_background": "light"
     },
     "output_type": "display_data"
    },
    {
     "data": {
      "image/png": "[encoded data removed]",
      "text/plain": [
       "<Figure size 432x288 with 1 Axes>"
      ]
     },
     "metadata": {
      "needs_background": "light"
     },
     "output_type": "display_data"
    }
   ],
   "source": [
    "accuracy = model_train.history['accuracy']\n",
    "val_accuracy = model_train.history['val_accuracy']\n",
    "loss = model_train.history['loss']\n",
    "val_loss = model_train.history['val_loss']\n",
    "epochs = range(len(accuracy))\n",
    "plt.plot(epochs, accuracy, 'bo', label='Training accuracy')\n",
    "plt.plot(epochs, val_accuracy, 'b', label='Validation accuracy')\n",
    "plt.title('Training and validation accuracy')\n",
    "plt.legend()\n",
    "plt.figure()\n",
    "plt.plot(epochs, loss, 'bo', label='Training loss')\n",
    "plt.plot(epochs, val_loss, 'b', label='Validation loss')\n",
    "plt.title('Training and validation loss')\n",
    "plt.legend()\n",
    "plt.show()"
   ]
  },
  {
   "cell_type": "code",
   "execution_count": 44,
   "metadata": {},
   "outputs": [
    {
     "name": "stdout",
     "output_type": "stream",
     "text": [
      "6/6 [==============================] - 0s 13ms/step\n"
     ]
    }
   ],
   "source": [
    "predicted_classes = model.predict(test_X)"
   ]
  },
  {
   "cell_type": "code",
   "execution_count": 45,
   "metadata": {},
   "outputs": [],
   "source": [
    "predicted_classes = np.argmax(np.round(predicted_classes),axis=1)"
   ]
  },
  {
   "cell_type": "code",
   "execution_count": 46,
   "metadata": {},
   "outputs": [],
   "source": [
    "test_Y = np.argmax(np.round(test_Y),axis=1)"
   ]
  },
  {
   "cell_type": "code",
   "execution_count": 47,
   "metadata": {},
   "outputs": [
    {
     "data": {
      "text/plain": [
       "((185,), (185,))"
      ]
     },
     "execution_count": 47,
     "metadata": {},
     "output_type": "execute_result"
    }
   ],
   "source": [
    "predicted_classes.shape, test_Y.shape"
   ]
  },
  {
   "cell_type": "code",
   "execution_count": 48,
   "metadata": {},
   "outputs": [
    {
     "name": "stdout",
     "output_type": "stream",
     "text": [
      "Found 68 correct labels\n"
     ]
    },
    {
     "data": {
      "image/png": "[encoded data removed]",
      "text/plain": [
       "<Figure size 432x288 with 8 Axes>"
      ]
     },
     "metadata": {
      "needs_background": "light"
     },
     "output_type": "display_data"
    }
   ],
   "source": [
    "correct = np.where(predicted_classes==test_Y)[0]\n",
    "print (\"Found %d correct labels\" % len(correct))\n",
    "for i, correct in enumerate(correct[:9]):\n",
    "    plt.subplot(3,3,i+1)\n",
    "    plt.imshow(test_X[correct].reshape(50,50), cmap='gray', interpolation='none')\n",
    "    plt.title(\"Predicted {}, Class {}\".format(predicted_classes[correct], test_Y[correct]))\n",
    "    plt.tight_layout()"
   ]
  },
  {
   "cell_type": "code",
   "execution_count": 49,
   "metadata": {},
   "outputs": [
    {
     "name": "stdout",
     "output_type": "stream",
     "text": [
      "Found 117 incorrect labels\n"
     ]
    },
    {
     "data": {
      "image/png": "[encoded data removed]",
      "text/plain": [
       "<Figure size 432x288 with 8 Axes>"
      ]
     },
     "metadata": {
      "needs_background": "light"
     },
     "output_type": "display_data"
    }
   ],
   "source": [
    "incorrect = np.where(predicted_classes!=test_Y)[0]\n",
    "print (\"Found %d incorrect labels\" % len(incorrect))\n",
    "for i, incorrect in enumerate(incorrect[:9]):\n",
    "    plt.subplot(3,3,i+1)\n",
    "    plt.imshow(test_X[incorrect].reshape(50,50), cmap='gray', interpolation='none')\n",
    "    plt.title(\"Predicted {}, Class {}\".format(predicted_classes[incorrect], test_Y[incorrect]))\n",
    "    plt.tight_layout()"
   ]
  },
  {
   "cell_type": "code",
   "execution_count": 50,
   "metadata": {},
   "outputs": [
    {
     "name": "stdout",
     "output_type": "stream",
     "text": [
      "              precision    recall  f1-score   support\n",
      "\n",
      "     Class 0       0.26      0.85      0.40        39\n",
      "     Class 1       0.55      0.28      0.37        40\n",
      "     Class 2       0.53      0.26      0.35        38\n",
      "     Class 3       0.79      0.24      0.37        46\n",
      "     Class 4       0.43      0.14      0.21        22\n",
      "\n",
      "    accuracy                           0.37       185\n",
      "   macro avg       0.51      0.35      0.34       185\n",
      "weighted avg       0.53      0.37      0.35       185\n",
      "\n"
     ]
    }
   ],
   "source": [
    "from sklearn.metrics import classification_report\n",
    "target_names = [\"Class {}\".format(i) for i in range(num_classes)]\n",
    "print(classification_report(test_Y, predicted_classes, target_names=target_names))\n",
    " "
   ]
  }
 ],
 "metadata": {
  "kernelspec": {
   "display_name": "Python 3 (ipykernel)",
   "language": "python",
   "name": "python3"
  },
  "language_info": {
   "codemirror_mode": {
    "name": "ipython",
    "version": 3
   },
   "file_extension": ".py",
   "mimetype": "text/x-python",
   "name": "python",
   "nbconvert_exporter": "python",
   "pygments_lexer": "ipython3",
   "version": "3.9.6"
  },
  "varInspector": {
   "cols": {
    "lenName": 16,
    "lenType": 16,
    "lenVar": 40
   },
   "kernels_config": {
    "python": {
     "delete_cmd_postfix": "",
     "delete_cmd_prefix": "del ",
     "library": "var_list.py",
     "varRefreshCmd": "print(var_dic_list())"
    },
    "r": {
     "delete_cmd_postfix": ") ",
     "delete_cmd_prefix": "rm(",
     "library": "var_list.r",
     "varRefreshCmd": "cat(var_dic_list()) "
    }
   },
   "types_to_exclude": [
    "module",
    "function",
    "builtin_function_or_method",
    "instance",
    "_Feature"
   ],
   "window_display": false
  }
 },
 "nbformat": 4,
 "nbformat_minor": 2
}
